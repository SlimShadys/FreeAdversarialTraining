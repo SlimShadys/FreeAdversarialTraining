{
 "cells": [
  {
   "attachments": {},
   "cell_type": "markdown",
   "metadata": {},
   "source": [
    "# __Neural Networks__\n",
    "## Exam Project: Adversarial Training for Free!\n",
    "\n",
    "**Students**:\n",
    "- **Name**: *Gianmarco Scarano* | Matricola Code: *2047315*<br>\n",
    "- **Name**: *Giancarlo Tedesco* | Matricola Code: *2057231*"
   ]
  },
  {
   "attachments": {},
   "cell_type": "markdown",
   "metadata": {},
   "source": [
    "### Google Colab compatibility\n",
    "Run this next cell only if you're using Google Colab!"
   ]
  },
  {
   "cell_type": "code",
   "execution_count": null,
   "metadata": {},
   "outputs": [],
   "source": [
    "# Library needed for this notebook\n",
    "!pip install -U tqdm --quiet"
   ]
  },
  {
   "attachments": {},
   "cell_type": "markdown",
   "metadata": {},
   "source": [
    "# Imports"
   ]
  },
  {
   "cell_type": "code",
   "execution_count": 1,
   "metadata": {},
   "outputs": [],
   "source": [
    "# We set the global variable for Google Colab, so we can assign possible paths, etc. accordingly\n",
    "try:\n",
    "  import google.colab\n",
    "  RunningInCOLAB = True\n",
    "except:\n",
    "  RunningInCOLAB = False"
   ]
  },
  {
   "cell_type": "code",
   "execution_count": 37,
   "metadata": {},
   "outputs": [
    {
     "name": "stdout",
     "output_type": "stream",
     "text": [
      "Dependecies correctly loaded.\n"
     ]
    }
   ],
   "source": [
    "import random\n",
    "from collections import OrderedDict\n",
    "\n",
    "import matplotlib.pyplot as plt\n",
    "import numpy as np\n",
    "import torch\n",
    "import torch.nn as nn\n",
    "import torch.optim as optim\n",
    "import torchvision.datasets as datasets\n",
    "import torchvision.models as models\n",
    "import torchvision.transforms as transforms\n",
    "from torch.utils.data import DataLoader\n",
    "from tqdm import tqdm\n",
    "\n",
    "print('Dependecies correctly loaded.')"
   ]
  },
  {
   "attachments": {},
   "cell_type": "markdown",
   "metadata": {},
   "source": [
    "## Check if we have CUDA support"
   ]
  },
  {
   "cell_type": "code",
   "execution_count": 3,
   "metadata": {},
   "outputs": [
    {
     "name": "stdout",
     "output_type": "stream",
     "text": [
      "Cuda available: True\n",
      "GPU: NVIDIA GeForce RTX 3060\n",
      "Total memory: 12.0 GB\n",
      "===================================================\n"
     ]
    }
   ],
   "source": [
    "if(torch.cuda.is_available()):\n",
    "    device = torch.device(\"cuda\")\n",
    "    print('Cuda available: {}'.format(torch.cuda.is_available()))\n",
    "    print(\"GPU: \" + torch.cuda.get_device_name(torch.cuda.current_device()))\n",
    "    print(\"Total memory: {:.1f} GB\".format((float(torch.cuda.get_device_properties(0).total_memory / (1024 ** 3)))))\n",
    "    print(\"===================================================\")\n",
    "else:\n",
    "    device = torch.device(\"cpu\")\n",
    "    print('Cuda not available, so using CPU. Please consider switching to a GPU runtime before running the notebook!')"
   ]
  },
  {
   "attachments": {},
   "cell_type": "markdown",
   "metadata": {},
   "source": [
    "# Fashion MNIST Dataset"
   ]
  },
  {
   "cell_type": "code",
   "execution_count": 4,
   "metadata": {},
   "outputs": [],
   "source": [
    "# Data augmentation\n",
    "transform = transforms.Compose([\n",
    "    transforms.ToTensor(),\n",
    "    transforms.Normalize((0.1307,), (0.3081,))\n",
    "])"
   ]
  },
  {
   "cell_type": "code",
   "execution_count": 5,
   "metadata": {},
   "outputs": [
    {
     "name": "stderr",
     "output_type": "stream",
     "text": [
      "c:\\Users\\Gianmarco\\anaconda3\\lib\\site-packages\\torchvision\\datasets\\mnist.py:498: UserWarning: The given NumPy array is not writeable, and PyTorch does not support non-writeable tensors. This means you can write to the underlying (supposedly non-writeable) NumPy array using the tensor. You may want to copy the array to protect its data or make it writeable before converting it to a tensor. This type of warning will be suppressed for the rest of this program. (Triggered internally at  ..\\torch\\csrc\\utils\\tensor_numpy.cpp:180.)\n",
      "  return torch.from_numpy(parsed.astype(m[2], copy=False)).view(*s)\n"
     ]
    }
   ],
   "source": [
    "# Download the train dataset\n",
    "train_dataset = datasets.FashionMNIST(root ='./', train=True, download=True, transform=transform)\n",
    "\n",
    "# Download the test dataset\n",
    "test_dataset = datasets.FashionMNIST(root ='./', train=False, download=True, transform=transform)\n",
    "\n",
    "# Create train and test data loaders\n",
    "train_loader = DataLoader(train_dataset, batch_size=32, shuffle=True)\n",
    "test_loader = DataLoader(test_dataset, batch_size=32, shuffle=False)"
   ]
  },
  {
   "cell_type": "code",
   "execution_count": 6,
   "metadata": {},
   "outputs": [
    {
     "name": "stdout",
     "output_type": "stream",
     "text": [
      "Width: 28\n",
      "Height: 28\n",
      "Channels: 1\n",
      "-----------------------------\n",
      "Class names: ['T-shirt/top', 'Trouser', 'Pullover', 'Dress', 'Coat', 'Sandal', 'Shirt', 'Sneaker', 'Bag', 'Ankle boot']\n",
      "Number of classes: 10\n",
      "-----------------------------\n",
      "Number of samples for training set: 60000\n",
      "Number of samples for validation set: 10000\n"
     ]
    }
   ],
   "source": [
    "# Input size of the image divided into 4 variables\n",
    "in_channels, height, width = train_dataset[0][0].size()\n",
    "print(F\"Width: {width}\")\n",
    "print(F\"Height: {height}\")\n",
    "print(F\"Channels: {in_channels}\")\n",
    "print(\"-----------------------------\")\n",
    "# Class names\n",
    "print(F\"Class names: {train_dataset.classes}\")\n",
    "print(F\"Number of classes: {len(train_dataset.classes)}\")\n",
    "print(\"-----------------------------\")\n",
    "# Number of samples for training / validation set\n",
    "print(F\"Number of samples for training set: {len(train_dataset)}\")\n",
    "print(F\"Number of samples for validation set: {len(test_dataset)}\")"
   ]
  },
  {
   "attachments": {},
   "cell_type": "markdown",
   "metadata": {},
   "source": [
    "# Model definition: DummyNet"
   ]
  },
  {
   "cell_type": "code",
   "execution_count": 7,
   "metadata": {},
   "outputs": [],
   "source": [
    "class DummyNet(nn.Module):\n",
    "    def __init__(self, num_classes=10):\n",
    "        super(DummyNet, self).__init__()\n",
    "\n",
    "        # First convolution\n",
    "        self.conv1 = nn.Conv2d(1, 32, kernel_size=3, stride=1, padding=1, device=device)\n",
    "        self.bn1 = nn.BatchNorm2d(32, device=device)\n",
    "        self.pool1 = nn.MaxPool2d(kernel_size=2, stride=2)\n",
    "\n",
    "        # Second convolution\n",
    "        self.conv2 = nn.Conv2d(32, 64, kernel_size=3, stride=1, padding=1, device=device)\n",
    "        self.bn2 = nn.BatchNorm2d(64, device=device)\n",
    "        self.pool2 = nn.MaxPool2d(kernel_size=2, stride=2)\n",
    "        \n",
    "        # Third convolution\n",
    "        self.conv3 = nn.Conv2d(64, 32, kernel_size=3, stride=1, padding=1, device=device)\n",
    "        self.bn3 = nn.BatchNorm2d(32, device=device)\n",
    "        self.pool3 = nn.MaxPool2d(kernel_size=2, stride=2)\n",
    "\n",
    "        # Activation functions\n",
    "        self.relu = nn.ReLU()\n",
    "        self.softmax = nn.Softmax(dim=1)\n",
    "\n",
    "        # Flatten layer\n",
    "        self.flatten = nn.Flatten()\n",
    "\n",
    "        # Fully connected layers\n",
    "        self.fc1 = nn.Linear(288, 150, device=device) # 288 is the output shape of the Flatten() function applied after the 3rd convolutional block.\n",
    "        self.fc2 = nn.Linear(150, 50, device=device)\n",
    "        self.fc3 = nn.Linear(50, num_classes, device=device)\n",
    "\n",
    "    def forward(self, x):\n",
    "        x = self.pool1(self.relu(self.bn1(self.conv1(x)))) # First convolution\n",
    "        x = self.pool2(self.relu(self.bn2(self.conv2(x)))) # Second convolution\n",
    "        x = self.pool3(self.relu(self.bn3(self.conv3(x)))) # Third convolution\n",
    "\n",
    "        x = self.flatten(x) # Flatten of the output of the 3rd convolutional block\n",
    "\n",
    "        x = self.relu(self.fc1(x))  # FC1\n",
    "        x = self.relu(self.fc2(x))  # FC2\n",
    "\n",
    "        x = self.fc3(x)             # Output layer\n",
    "        return self.softmax(x)      # Final activation function (SoftMax)"
   ]
  },
  {
   "attachments": {},
   "cell_type": "markdown",
   "metadata": {},
   "source": [
    "# Training phase"
   ]
  },
  {
   "attachments": {},
   "cell_type": "markdown",
   "metadata": {},
   "source": [
    "## Training parameters"
   ]
  },
  {
   "cell_type": "code",
   "execution_count": 33,
   "metadata": {},
   "outputs": [],
   "source": [
    "# Let's define some variables for the training phase\n",
    "lr = 1e-3\n",
    "momentum = 0.9\n",
    "epochs = 20\n",
    "\n",
    "# Our model\n",
    "model = DummyNet(num_classes=10)\n",
    "\n",
    "# Define the loss function and optimizer\n",
    "criterion = nn.CrossEntropyLoss()\n",
    "#optimizer = optim.Adam(model.parameters(), lr=lr)\n",
    "optimizer = optim.SGD(model.parameters(), lr=lr, momentum=momentum)"
   ]
  },
  {
   "attachments": {},
   "cell_type": "markdown",
   "metadata": {},
   "source": [
    "## FreeAdversarial parameters"
   ]
  },
  {
   "cell_type": "code",
   "execution_count": 34,
   "metadata": {},
   "outputs": [],
   "source": [
    "m = 4 # Usually it's a value m ≤ 10\n",
    "epochs = int(epochs / m)\n",
    "epsilon = 0.1\n",
    "delta = torch.zeros([32, in_channels, width, height], device=device)\n",
    "batchNoise = None\n",
    "\n",
    "mean = torch.Tensor(np.array([0.1307])[:, np.newaxis, np.newaxis])\n",
    "mean = mean.expand(in_channels, width, height).cuda()\n",
    "std = torch.Tensor(np.array([0.3081])[:, np.newaxis, np.newaxis])\n",
    "std = std.expand(in_channels, width, height).cuda()"
   ]
  },
  {
   "attachments": {},
   "cell_type": "markdown",
   "metadata": {},
   "source": [
    "## Actual training phase (Normal + FreeAdv)"
   ]
  },
  {
   "cell_type": "code",
   "execution_count": 35,
   "metadata": {},
   "outputs": [
    {
     "name": "stderr",
     "output_type": "stream",
     "text": [
      "Epoch n.1 (Train): 100%|██████████| 1875/1875 [00:42<00:00, 44.28it/s]\n",
      "Epoch n.1 (Validation): 100%|██████████| 313/313 [00:01<00:00, 192.95it/s]\n"
     ]
    },
    {
     "name": "stdout",
     "output_type": "stream",
     "text": [
      "Epoch 001:\n",
      "\t- Training accuracy   : 0.6422\n",
      "\t- Training loss       : 1.8163\n",
      "\t- Validation accuracy : 0.7733\n",
      "\t- Validation loss : 1.6374\n",
      "=========================================\n"
     ]
    },
    {
     "name": "stderr",
     "output_type": "stream",
     "text": [
      "Epoch n.2 (Train): 100%|██████████| 1875/1875 [00:43<00:00, 43.47it/s]\n",
      "Epoch n.2 (Validation): 100%|██████████| 313/313 [00:01<00:00, 176.31it/s]\n"
     ]
    },
    {
     "name": "stdout",
     "output_type": "stream",
     "text": [
      "Epoch 002:\n",
      "\t- Training accuracy   : 0.7766\n",
      "\t- Training loss       : 1.6982\n",
      "\t- Validation accuracy : 0.7683\n",
      "\t- Validation loss : 1.6418\n",
      "=========================================\n"
     ]
    },
    {
     "name": "stderr",
     "output_type": "stream",
     "text": [
      "Epoch n.3 (Train): 100%|██████████| 1875/1875 [00:45<00:00, 41.22it/s]\n",
      "Epoch n.3 (Validation): 100%|██████████| 313/313 [00:01<00:00, 182.37it/s]\n"
     ]
    },
    {
     "name": "stdout",
     "output_type": "stream",
     "text": [
      "Epoch 003:\n",
      "\t- Training accuracy   : 0.7890\n",
      "\t- Training loss       : 1.7186\n",
      "\t- Validation accuracy : 0.7803\n",
      "\t- Validation loss : 1.6090\n",
      "=========================================\n"
     ]
    },
    {
     "name": "stderr",
     "output_type": "stream",
     "text": [
      "Epoch n.4 (Train): 100%|██████████| 1875/1875 [00:43<00:00, 43.60it/s]\n",
      "Epoch n.4 (Validation): 100%|██████████| 313/313 [00:01<00:00, 191.10it/s]\n"
     ]
    },
    {
     "name": "stdout",
     "output_type": "stream",
     "text": [
      "Epoch 004:\n",
      "\t- Training accuracy   : 0.7958\n",
      "\t- Training loss       : 1.6436\n",
      "\t- Validation accuracy : 0.7734\n",
      "\t- Validation loss : 1.6478\n",
      "=========================================\n"
     ]
    },
    {
     "name": "stderr",
     "output_type": "stream",
     "text": [
      "Epoch n.5 (Train): 100%|██████████| 1875/1875 [00:45<00:00, 41.66it/s]\n",
      "Epoch n.5 (Validation): 100%|██████████| 313/313 [00:01<00:00, 174.18it/s]"
     ]
    },
    {
     "name": "stdout",
     "output_type": "stream",
     "text": [
      "Epoch 005:\n",
      "\t- Training accuracy   : 0.8017\n",
      "\t- Training loss       : 1.6582\n",
      "\t- Validation accuracy : 0.7676\n",
      "\t- Validation loss : 1.6286\n",
      "=========================================\n"
     ]
    },
    {
     "name": "stderr",
     "output_type": "stream",
     "text": [
      "\n"
     ]
    }
   ],
   "source": [
    "# Train the model\n",
    "for epoch in range(epochs): # 3: for epoch = 1 . . . Nep/m do\n",
    "\n",
    "    correct = 0\n",
    "    correctVal = 0\n",
    "    totalLab = 0\n",
    "    total = 0\n",
    "\n",
    "    model.train()\n",
    "    \n",
    "    for i, (images, labels) in enumerate(tqdm(train_loader, desc=F\"Epoch n.{epoch+1} (Train)\")): # 4: for minibatch B ⊂ X do\n",
    "\n",
    "        # We need to move to the GPU otherwise PyTorch will give issues when adding noise_batch to images\n",
    "        images = images.to(device=device)\n",
    "        labels = labels.to(device=device)\n",
    "        \n",
    "        for j in range(m): # 5: for i = 1 . . . m do\n",
    "\n",
    "            # We want our model to not be trained on simple images but on images with noise δ (delta)\n",
    "            batchNoise = delta[0:images.size(0)]\n",
    "            batchNoise.to(device=device).requires_grad_(True)\n",
    "\n",
    "            editedInput = images.clone()\n",
    "            editedInput.add_(batchNoise)\n",
    "            editedInput.clamp_(-1, 1)\n",
    "\n",
    "            # Forward pass\n",
    "            outputs = model(editedInput)\n",
    "            loss = criterion(outputs, labels)\n",
    "\n",
    "            # Backward pass and optimization\n",
    "            optimizer.zero_grad()\n",
    "            loss.backward(retain_graph=True) # 7: gθ ← E(x,y)∈B[∇θ l(x + δ, y, θ)] + 9: θ ← θ − τgθ ----> Plus we go popolate the noise_batch.grad value\n",
    "\n",
    "            gadv = batchNoise.grad # 8: gadv ← ∇x l(x + δ, y, θ)] ---> We already computed this, we are just storing it in a variable\n",
    "\n",
    "            # Update the noise for the next iteration\n",
    "            delta = delta + (epsilon * torch.sign(gadv)) # 11: δ ← δ + eps · sign(gadv)\n",
    "            \n",
    "            delta = torch.clamp_(delta, - epsilon, epsilon) # 12: δ ← clip(δ, -eps, eps)\n",
    "\n",
    "            optimizer.step()\n",
    "\n",
    "            # Calculate accuracy\n",
    "            _, predicted = torch.max(outputs.data, 1)\n",
    "            correct += (predicted == labels).sum().item()\n",
    "            totalLab += labels.size(0)\n",
    "\n",
    "    accuracy = correct / totalLab\n",
    "\n",
    "    # Test the model\n",
    "    model.eval()\n",
    "\n",
    "    with torch.no_grad():\n",
    "\n",
    "        for valImg, labels in tqdm(test_loader, desc=F\"Epoch n.{epoch+1} (Validation)\"):\n",
    "            \n",
    "            valImg = valImg.to(device=device)\n",
    "            labels = labels.to(device=device)\n",
    "            \n",
    "            outputs = model(valImg)\n",
    "\n",
    "            lossVal = criterion(outputs, labels)\n",
    "\n",
    "            _, predicted = torch.max(outputs.data, 1)\n",
    "            total += labels.size(0)\n",
    "            correctVal += (predicted == labels).sum().item()\n",
    "\n",
    "        accuracyVal = correctVal / total\n",
    "\n",
    "    print(f'Epoch {epoch+1:03}:')     \n",
    "    print(f'\\t- Training accuracy   : {accuracy:.4f}')\n",
    "    print(f'\\t- Training loss       : {loss.item():.4f}')\n",
    "    print(f'\\t- Validation accuracy : {accuracyVal:.4f}')\n",
    "    print(f'\\t- Validation loss : {lossVal.item():.4f}')\n",
    "    print(\"=========================================\")"
   ]
  },
  {
   "cell_type": "code",
   "execution_count": 48,
   "metadata": {},
   "outputs": [
    {
     "data": {
      "text/plain": [
       "<Figure size 432x288 with 0 Axes>"
      ]
     },
     "metadata": {},
     "output_type": "display_data"
    },
    {
     "data": {
      "image/png": "[encoded data removed]",
      "text/plain": [
       "<Figure size 1080x1080 with 3 Axes>"
      ]
     },
     "metadata": {
      "needs_background": "light"
     },
     "output_type": "display_data"
    }
   ],
   "source": [
    "idx = random.randint(0, 31)\n",
    "\n",
    "# Original\n",
    "orig = np.array(images[idx].detach().cpu(), dtype='float').reshape(28,28,1)\n",
    "# Adv\n",
    "adv = np.array(gadv[idx].detach().cpu(), dtype='float').reshape(28,28,1)\n",
    "# Edited\n",
    "orig_adv = np.array(editedInput[idx].detach().cpu(), dtype='float').reshape(28,28,1)\n",
    "\n",
    "plt.figure()\n",
    "fig, axs = plt.subplots(3, 1, figsize=(15, 15))\n",
    "\n",
    "axs[0].imshow(orig, cmap='gray')\n",
    "axs[1].imshow(adv, cmap='gray')\n",
    "axs[2].imshow(orig_adv, cmap='gray')\n",
    "\n",
    "plt.show()"
   ]
  }
 ],
 "metadata": {
  "kernelspec": {
   "display_name": "base",
   "language": "python",
   "name": "python3"
  },
  "language_info": {
   "codemirror_mode": {
    "name": "ipython",
    "version": 3
   },
   "file_extension": ".py",
   "mimetype": "text/x-python",
   "name": "python",
   "nbconvert_exporter": "python",
   "pygments_lexer": "ipython3",
   "version": "3.9.7"
  },
  "orig_nbformat": 4,
  "vscode": {
   "interpreter": {
    "hash": "0245dcb33ee754f1ac52eeb37726094d614f792ee661c1411187169ef218bd3b"
   }
  }
 },
 "nbformat": 4,
 "nbformat_minor": 2
}
