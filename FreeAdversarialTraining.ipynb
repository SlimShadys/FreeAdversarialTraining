{
 "cells": [
  {
   "attachments": {},
   "cell_type": "markdown",
   "metadata": {},
   "source": [
    "# __Neural Networks__\n",
    "## Exam Project: Adversarial Training for Free!\n",
    "\n",
    "**Students**:\n",
    "- **Name**: *Gianmarco Scarano* | Matricola Code: *2047315*<br>\n",
    "- **Name**: *Giancarlo Tedesco* | Matricola Code: *2057231*"
   ]
  },
  {
   "attachments": {},
   "cell_type": "markdown",
   "metadata": {},
   "source": [
    "### Google Colab compatibility\n",
    "Run this next cell only if you're using Google Colab!"
   ]
  },
  {
   "cell_type": "code",
   "execution_count": null,
   "metadata": {},
   "outputs": [],
   "source": [
    "# Library needed for this notebook\n",
    "!pip install -U tqdm --quiet"
   ]
  },
  {
   "attachments": {},
   "cell_type": "markdown",
   "metadata": {},
   "source": [
    "# Imports"
   ]
  },
  {
   "cell_type": "code",
   "execution_count": 1,
   "metadata": {},
   "outputs": [],
   "source": [
    "# We set the global variable for Google Colab, so we can assign possible paths, etc. accordingly\n",
    "try:\n",
    "  import google.colab\n",
    "  RunningInCOLAB = True\n",
    "except:\n",
    "  RunningInCOLAB = False"
   ]
  },
  {
   "cell_type": "code",
   "execution_count": 2,
   "metadata": {},
   "outputs": [],
   "source": [
    "from collections import OrderedDict\n",
    "\n",
    "import torch\n",
    "import torch.nn as nn\n",
    "import torch.optim as optim\n",
    "import torchvision.datasets as datasets\n",
    "import torchvision.models as models\n",
    "import torchvision.transforms as transforms\n",
    "from torch.utils.data import DataLoader\n",
    "from tqdm import tqdm"
   ]
  },
  {
   "attachments": {},
   "cell_type": "markdown",
   "metadata": {},
   "source": [
    "## Check if we have CUDA support"
   ]
  },
  {
   "cell_type": "code",
   "execution_count": 3,
   "metadata": {},
   "outputs": [
    {
     "name": "stdout",
     "output_type": "stream",
     "text": [
      "Cuda available: True\n",
      "GPU: NVIDIA GeForce RTX 3060 Laptop GPU\n",
      "Total memory: 6.0 GB\n",
      "===================================================\n"
     ]
    }
   ],
   "source": [
    "if(torch.cuda.is_available()):\n",
    "    device = torch.device(\"cuda\")\n",
    "    print('Cuda available: {}'.format(torch.cuda.is_available()))\n",
    "    print(\"GPU: \" + torch.cuda.get_device_name(torch.cuda.current_device()))\n",
    "    print(\"Total memory: {:.1f} GB\".format((float(torch.cuda.get_device_properties(0).total_memory / (1024 ** 3)))))\n",
    "    print(\"===================================================\")\n",
    "else:\n",
    "    device = torch.device(\"cpu\")\n",
    "    print('Cuda not available, so using CPU. Please consider switching to a GPU runtime before running the notebook!')"
   ]
  },
  {
   "attachments": {},
   "cell_type": "markdown",
   "metadata": {},
   "source": [
    "# Fashion MNIST Dataset"
   ]
  },
  {
   "cell_type": "code",
   "execution_count": 4,
   "metadata": {},
   "outputs": [],
   "source": [
    "# Data augmentation\n",
    "transform = transforms.Compose([\n",
    "    transforms.ToTensor(),\n",
    "    transforms.Normalize((0.5,), (0.5,))\n",
    "])"
   ]
  },
  {
   "cell_type": "code",
   "execution_count": 5,
   "metadata": {},
   "outputs": [],
   "source": [
    "# Download the train dataset\n",
    "train_dataset = datasets.FashionMNIST(root ='./', train=True, download=True, transform=transform)\n",
    "\n",
    "# Download the test dataset\n",
    "test_dataset = datasets.FashionMNIST(root ='./', train=False, download=True, transform=transform)\n",
    "\n",
    "# Create train and test data loaders\n",
    "train_loader = DataLoader(train_dataset, batch_size=32, shuffle=True)\n",
    "test_loader = DataLoader(test_dataset, batch_size=32, shuffle=False)"
   ]
  },
  {
   "attachments": {},
   "cell_type": "markdown",
   "metadata": {},
   "source": [
    "# Model definition: NoctyNet"
   ]
  },
  {
   "cell_type": "code",
   "execution_count": 9,
   "metadata": {},
   "outputs": [],
   "source": [
    "class NoctyNet(nn.Module):\n",
    "    def __init__(self, num_classes=10):\n",
    "        super(NoctyNet, self).__init__()\n",
    "\n",
    "        # First convolution\n",
    "        self.conv1 = nn.Conv2d(1, 32, kernel_size=3, stride=1, padding=1)\n",
    "        self.bn1 = nn.BatchNorm2d(32)\n",
    "        self.pool1 = nn.MaxPool2d(kernel_size=2, stride=2)\n",
    "\n",
    "        # Second convolution\n",
    "        self.conv2 = nn.Conv2d(32, 64, kernel_size=3, stride=1, padding=1)\n",
    "        self.bn2 = nn.BatchNorm2d(64)\n",
    "        self.pool2 = nn.MaxPool2d(kernel_size=2, stride=2)\n",
    "        \n",
    "        # Third convolution\n",
    "        self.conv3 = nn.Conv2d(64, 32, kernel_size=3, stride=1, padding=1)\n",
    "        self.bn3 = nn.BatchNorm2d(32)\n",
    "        self.pool3 = nn.MaxPool2d(kernel_size=2, stride=2)\n",
    "\n",
    "        # Activation functions\n",
    "        self.relu = nn.ReLU()\n",
    "        self.softmax = nn.Softmax(dim=1)\n",
    "\n",
    "        # Flatten layer\n",
    "        self.flatten = nn.Flatten()\n",
    "\n",
    "        # Fully connected layers\n",
    "        self.fc1 = nn.Linear(288, 150) # 288 is the output shape of the Flatten() function applied after the 3rd convolutional block.\n",
    "        self.fc2 = nn.Linear(150, 50)\n",
    "        self.fc3 = nn.Linear(50, num_classes)\n",
    "\n",
    "    def forward(self, x):\n",
    "        x = self.pool1(self.relu(self.bn1(self.conv1(x)))) # First convolution\n",
    "        x = self.pool2(self.relu(self.bn2(self.conv2(x)))) # Second convolution\n",
    "        x = self.pool3(self.relu(self.bn3(self.conv3(x)))) # Third convolution\n",
    "\n",
    "        x = self.flatten(x) # Flatten of the output of the 3rd convolutional block\n",
    "\n",
    "        x = self.relu(self.fc1(x))  # FC1\n",
    "        x = self.relu(self.fc2(x))  # FC2\n",
    "\n",
    "        x = self.fc3(x)             # Output layer\n",
    "        return self.softmax(x)      # Final activation function (SoftMax)\n"
   ]
  },
  {
   "attachments": {},
   "cell_type": "markdown",
   "metadata": {},
   "source": [
    "# Training phase"
   ]
  },
  {
   "cell_type": "code",
   "execution_count": 10,
   "metadata": {},
   "outputs": [],
   "source": [
    "# Let's define some variables for the training phase\n",
    "lr = 1e-3\n",
    "momentum = 0.9\n",
    "epochs = 100\n",
    "\n",
    "# Our model\n",
    "model = NoctyNet(num_classes=10)\n",
    "\n",
    "# Define the loss function and optimizer\n",
    "criterion = nn.CrossEntropyLoss()\n",
    "optimizer = optim.Adam(model.parameters(), lr=lr)\n",
    "#optimizer = optim.SGD(model.parameters(), lr=lr, momentum=momentum)"
   ]
  },
  {
   "cell_type": "code",
   "execution_count": 11,
   "metadata": {},
   "outputs": [
    {
     "name": "stderr",
     "output_type": "stream",
     "text": [
      "Epoch n.1 (Train): 1875it [00:42, 43.63it/s]\n",
      "Epoch n.1 (Validation): 100%|██████████| 313/313 [00:03<00:00, 100.55it/s]\n"
     ]
    },
    {
     "name": "stdout",
     "output_type": "stream",
     "text": [
      "Epoch 001:\n",
      "\t- Training accuracy   : 0.8438\n",
      "\t- Training loss       : 1.6278\n",
      "\t- Validation accuracy : 0.854\n",
      "\t- Validation loss : 1.5942\n",
      "=========================================\n"
     ]
    },
    {
     "name": "stderr",
     "output_type": "stream",
     "text": [
      "Epoch n.2 (Train): 1875it [00:43, 43.16it/s]\n",
      "Epoch n.2 (Validation): 100%|██████████| 313/313 [00:03<00:00, 101.85it/s]\n"
     ]
    },
    {
     "name": "stdout",
     "output_type": "stream",
     "text": [
      "Epoch 002:\n",
      "\t- Training accuracy   : 0.8438\n",
      "\t- Training loss       : 1.6109\n",
      "\t- Validation accuracy : 0.874\n",
      "\t- Validation loss : 1.5958\n",
      "=========================================\n"
     ]
    },
    {
     "name": "stderr",
     "output_type": "stream",
     "text": [
      "Epoch n.3 (Train): 1875it [00:49, 37.87it/s]\n",
      "Epoch n.3 (Validation): 100%|██████████| 313/313 [00:04<00:00, 70.92it/s]\n"
     ]
    },
    {
     "name": "stdout",
     "output_type": "stream",
     "text": [
      "Epoch 003:\n",
      "\t- Training accuracy   : 0.9375\n",
      "\t- Training loss       : 1.5241\n",
      "\t- Validation accuracy : 0.877\n",
      "\t- Validation loss : 1.5298\n",
      "=========================================\n"
     ]
    },
    {
     "name": "stderr",
     "output_type": "stream",
     "text": [
      "Epoch n.4 (Train): 1875it [00:49, 37.51it/s]\n",
      "Epoch n.4 (Validation): 100%|██████████| 313/313 [00:03<00:00, 87.78it/s]\n"
     ]
    },
    {
     "name": "stdout",
     "output_type": "stream",
     "text": [
      "Epoch 004:\n",
      "\t- Training accuracy   : 0.9062\n",
      "\t- Training loss       : 1.5590\n",
      "\t- Validation accuracy : 0.887\n",
      "\t- Validation loss : 1.5557\n",
      "=========================================\n"
     ]
    },
    {
     "name": "stderr",
     "output_type": "stream",
     "text": [
      "Epoch n.5 (Train): 1875it [00:47, 39.83it/s]\n",
      "Epoch n.5 (Validation): 100%|██████████| 313/313 [00:03<00:00, 94.40it/s]\n"
     ]
    },
    {
     "name": "stdout",
     "output_type": "stream",
     "text": [
      "Epoch 005:\n",
      "\t- Training accuracy   : 0.8750\n",
      "\t- Training loss       : 1.5877\n",
      "\t- Validation accuracy : 0.895\n",
      "\t- Validation loss : 1.5257\n",
      "=========================================\n"
     ]
    },
    {
     "name": "stderr",
     "output_type": "stream",
     "text": [
      "Epoch n.6 (Train): 1875it [00:46, 40.11it/s]\n",
      "Epoch n.6 (Validation): 100%|██████████| 313/313 [00:03<00:00, 94.97it/s] \n"
     ]
    },
    {
     "name": "stdout",
     "output_type": "stream",
     "text": [
      "Epoch 006:\n",
      "\t- Training accuracy   : 0.9062\n",
      "\t- Training loss       : 1.5531\n",
      "\t- Validation accuracy : 0.886\n",
      "\t- Validation loss : 1.5237\n",
      "=========================================\n"
     ]
    },
    {
     "name": "stderr",
     "output_type": "stream",
     "text": [
      "Epoch n.7 (Train): 1875it [00:47, 39.19it/s]\n",
      "Epoch n.7 (Validation): 100%|██████████| 313/313 [00:03<00:00, 97.31it/s]\n"
     ]
    },
    {
     "name": "stdout",
     "output_type": "stream",
     "text": [
      "Epoch 007:\n",
      "\t- Training accuracy   : 0.9062\n",
      "\t- Training loss       : 1.5657\n",
      "\t- Validation accuracy : 0.889\n",
      "\t- Validation loss : 1.5249\n",
      "=========================================\n"
     ]
    },
    {
     "name": "stderr",
     "output_type": "stream",
     "text": [
      "Epoch n.8 (Train): 1875it [00:47, 39.52it/s]\n",
      "Epoch n.8 (Validation): 100%|██████████| 313/313 [00:03<00:00, 94.55it/s]\n"
     ]
    },
    {
     "name": "stdout",
     "output_type": "stream",
     "text": [
      "Epoch 008:\n",
      "\t- Training accuracy   : 0.8750\n",
      "\t- Training loss       : 1.5789\n",
      "\t- Validation accuracy : 0.894\n",
      "\t- Validation loss : 1.5855\n",
      "=========================================\n"
     ]
    },
    {
     "name": "stderr",
     "output_type": "stream",
     "text": [
      "Epoch n.9 (Train): 1875it [00:47, 39.83it/s]\n",
      "Epoch n.9 (Validation): 100%|██████████| 313/313 [00:03<00:00, 96.82it/s]\n"
     ]
    },
    {
     "name": "stdout",
     "output_type": "stream",
     "text": [
      "Epoch 009:\n",
      "\t- Training accuracy   : 0.9375\n",
      "\t- Training loss       : 1.5301\n",
      "\t- Validation accuracy : 0.895\n",
      "\t- Validation loss : 1.5235\n",
      "=========================================\n"
     ]
    },
    {
     "name": "stderr",
     "output_type": "stream",
     "text": [
      "Epoch n.10 (Train): 1875it [00:47, 39.49it/s]\n",
      "Epoch n.10 (Validation): 100%|██████████| 313/313 [00:03<00:00, 97.45it/s] \n"
     ]
    },
    {
     "name": "stdout",
     "output_type": "stream",
     "text": [
      "Epoch 010:\n",
      "\t- Training accuracy   : 0.9062\n",
      "\t- Training loss       : 1.5573\n",
      "\t- Validation accuracy : 0.892\n",
      "\t- Validation loss : 1.5847\n",
      "=========================================\n"
     ]
    },
    {
     "name": "stderr",
     "output_type": "stream",
     "text": [
      "Epoch n.11 (Train): 1875it [00:48, 38.74it/s]\n",
      "Epoch n.11 (Validation): 100%|██████████| 313/313 [00:03<00:00, 96.36it/s]\n"
     ]
    },
    {
     "name": "stdout",
     "output_type": "stream",
     "text": [
      "Epoch 011:\n",
      "\t- Training accuracy   : 0.8438\n",
      "\t- Training loss       : 1.6206\n",
      "\t- Validation accuracy : 0.888\n",
      "\t- Validation loss : 1.5486\n",
      "=========================================\n"
     ]
    },
    {
     "name": "stderr",
     "output_type": "stream",
     "text": [
      "Epoch n.12 (Train): 1875it [00:49, 37.87it/s]\n",
      "Epoch n.12 (Validation): 100%|██████████| 313/313 [00:03<00:00, 97.10it/s] \n"
     ]
    },
    {
     "name": "stdout",
     "output_type": "stream",
     "text": [
      "Epoch 012:\n",
      "\t- Training accuracy   : 0.9688\n",
      "\t- Training loss       : 1.5197\n",
      "\t- Validation accuracy : 0.901\n",
      "\t- Validation loss : 1.5231\n",
      "=========================================\n"
     ]
    },
    {
     "name": "stderr",
     "output_type": "stream",
     "text": [
      "Epoch n.13 (Train): 1875it [00:49, 38.24it/s]\n",
      "Epoch n.13 (Validation): 100%|██████████| 313/313 [00:03<00:00, 95.71it/s]\n"
     ]
    },
    {
     "name": "stdout",
     "output_type": "stream",
     "text": [
      "Epoch 013:\n",
      "\t- Training accuracy   : 0.9062\n",
      "\t- Training loss       : 1.5553\n",
      "\t- Validation accuracy : 0.903\n",
      "\t- Validation loss : 1.5596\n",
      "=========================================\n"
     ]
    },
    {
     "name": "stderr",
     "output_type": "stream",
     "text": [
      "Epoch n.14 (Train): 1875it [00:49, 37.77it/s]\n",
      "Epoch n.14 (Validation): 100%|██████████| 313/313 [00:03<00:00, 98.65it/s] \n"
     ]
    },
    {
     "name": "stdout",
     "output_type": "stream",
     "text": [
      "Epoch 014:\n",
      "\t- Training accuracy   : 0.9375\n",
      "\t- Training loss       : 1.5233\n",
      "\t- Validation accuracy : 0.901\n",
      "\t- Validation loss : 1.5295\n",
      "=========================================\n"
     ]
    },
    {
     "name": "stderr",
     "output_type": "stream",
     "text": [
      "Epoch n.15 (Train): 1875it [01:07, 27.80it/s]\n",
      "Epoch n.15 (Validation): 100%|██████████| 313/313 [00:08<00:00, 38.04it/s]\n"
     ]
    },
    {
     "name": "stdout",
     "output_type": "stream",
     "text": [
      "Epoch 015:\n",
      "\t- Training accuracy   : 0.9062\n",
      "\t- Training loss       : 1.5549\n",
      "\t- Validation accuracy : 0.902\n",
      "\t- Validation loss : 1.6243\n",
      "=========================================\n"
     ]
    },
    {
     "name": "stderr",
     "output_type": "stream",
     "text": [
      "Epoch n.16 (Train): 1875it [02:18, 13.52it/s]\n",
      "Epoch n.16 (Validation): 100%|██████████| 313/313 [00:03<00:00, 101.46it/s]\n"
     ]
    },
    {
     "name": "stdout",
     "output_type": "stream",
     "text": [
      "Epoch 016:\n",
      "\t- Training accuracy   : 0.8750\n",
      "\t- Training loss       : 1.5803\n",
      "\t- Validation accuracy : 0.899\n",
      "\t- Validation loss : 1.5237\n",
      "=========================================\n"
     ]
    },
    {
     "name": "stderr",
     "output_type": "stream",
     "text": [
      "Epoch n.17 (Train): 1875it [00:48, 38.44it/s]\n",
      "Epoch n.17 (Validation): 100%|██████████| 313/313 [00:03<00:00, 102.65it/s]\n"
     ]
    },
    {
     "name": "stdout",
     "output_type": "stream",
     "text": [
      "Epoch 017:\n",
      "\t- Training accuracy   : 0.8125\n",
      "\t- Training loss       : 1.6489\n",
      "\t- Validation accuracy : 0.899\n",
      "\t- Validation loss : 1.5834\n",
      "=========================================\n"
     ]
    },
    {
     "name": "stderr",
     "output_type": "stream",
     "text": [
      "Epoch n.18 (Train): 1875it [01:59, 15.70it/s]\n",
      "Epoch n.18 (Validation): 100%|██████████| 313/313 [00:10<00:00, 30.42it/s]\n"
     ]
    },
    {
     "name": "stdout",
     "output_type": "stream",
     "text": [
      "Epoch 018:\n",
      "\t- Training accuracy   : 0.9062\n",
      "\t- Training loss       : 1.5453\n",
      "\t- Validation accuracy : 0.903\n",
      "\t- Validation loss : 1.5523\n",
      "=========================================\n"
     ]
    },
    {
     "name": "stderr",
     "output_type": "stream",
     "text": [
      "Epoch n.19 (Train): 1875it [00:52, 35.46it/s]\n",
      "Epoch n.19 (Validation): 100%|██████████| 313/313 [00:09<00:00, 31.53it/s]\n"
     ]
    },
    {
     "name": "stdout",
     "output_type": "stream",
     "text": [
      "Epoch 019:\n",
      "\t- Training accuracy   : 0.9062\n",
      "\t- Training loss       : 1.5410\n",
      "\t- Validation accuracy : 0.894\n",
      "\t- Validation loss : 1.5237\n",
      "=========================================\n"
     ]
    },
    {
     "name": "stderr",
     "output_type": "stream",
     "text": [
      "Epoch n.20 (Train): 1875it [07:39,  4.08it/s]\n",
      "Epoch n.20 (Validation): 100%|██████████| 313/313 [00:07<00:00, 40.92it/s]\n"
     ]
    },
    {
     "name": "stdout",
     "output_type": "stream",
     "text": [
      "Epoch 020:\n",
      "\t- Training accuracy   : 0.9375\n",
      "\t- Training loss       : 1.5236\n",
      "\t- Validation accuracy : 0.897\n",
      "\t- Validation loss : 1.6167\n",
      "=========================================\n"
     ]
    },
    {
     "name": "stderr",
     "output_type": "stream",
     "text": [
      "Epoch n.21 (Train): 1875it [04:34,  6.82it/s]\n",
      "Epoch n.21 (Validation): 100%|██████████| 313/313 [00:06<00:00, 44.91it/s]\n"
     ]
    },
    {
     "name": "stdout",
     "output_type": "stream",
     "text": [
      "Epoch 021:\n",
      "\t- Training accuracy   : 0.8125\n",
      "\t- Training loss       : 1.6485\n",
      "\t- Validation accuracy : 0.905\n",
      "\t- Validation loss : 1.5314\n",
      "=========================================\n"
     ]
    },
    {
     "name": "stderr",
     "output_type": "stream",
     "text": [
      "Epoch n.22 (Train): 1875it [02:15, 13.81it/s]\n",
      "Epoch n.22 (Validation): 100%|██████████| 313/313 [00:03<00:00, 81.03it/s]\n"
     ]
    },
    {
     "name": "stdout",
     "output_type": "stream",
     "text": [
      "Epoch 022:\n",
      "\t- Training accuracy   : 0.8438\n",
      "\t- Training loss       : 1.6012\n",
      "\t- Validation accuracy : 0.898\n",
      "\t- Validation loss : 1.5839\n",
      "=========================================\n"
     ]
    },
    {
     "name": "stderr",
     "output_type": "stream",
     "text": [
      "Epoch n.23 (Train): 1875it [00:53, 35.28it/s]\n",
      "Epoch n.23 (Validation): 100%|██████████| 313/313 [00:03<00:00, 91.93it/s] \n"
     ]
    },
    {
     "name": "stdout",
     "output_type": "stream",
     "text": [
      "Epoch 023:\n",
      "\t- Training accuracy   : 0.9062\n",
      "\t- Training loss       : 1.5548\n",
      "\t- Validation accuracy : 0.890\n",
      "\t- Validation loss : 1.5913\n",
      "=========================================\n"
     ]
    },
    {
     "name": "stderr",
     "output_type": "stream",
     "text": [
      "Epoch n.24 (Train): 1875it [00:51, 36.29it/s]\n",
      "Epoch n.24 (Validation): 100%|██████████| 313/313 [00:03<00:00, 100.61it/s]\n"
     ]
    },
    {
     "name": "stdout",
     "output_type": "stream",
     "text": [
      "Epoch 024:\n",
      "\t- Training accuracy   : 0.9375\n",
      "\t- Training loss       : 1.5236\n",
      "\t- Validation accuracy : 0.899\n",
      "\t- Validation loss : 1.5237\n",
      "=========================================\n"
     ]
    },
    {
     "name": "stderr",
     "output_type": "stream",
     "text": [
      "Epoch n.25 (Train): 1875it [00:51, 36.12it/s]\n",
      "Epoch n.25 (Validation): 100%|██████████| 313/313 [00:03<00:00, 89.76it/s] \n"
     ]
    },
    {
     "name": "stdout",
     "output_type": "stream",
     "text": [
      "Epoch 025:\n",
      "\t- Training accuracy   : 0.8750\n",
      "\t- Training loss       : 1.5861\n",
      "\t- Validation accuracy : 0.901\n",
      "\t- Validation loss : 1.5448\n",
      "=========================================\n"
     ]
    },
    {
     "name": "stderr",
     "output_type": "stream",
     "text": [
      "Epoch n.26 (Train): 1875it [00:53, 35.29it/s]\n",
      "Epoch n.26 (Validation): 100%|██████████| 313/313 [00:03<00:00, 96.56it/s] \n"
     ]
    },
    {
     "name": "stdout",
     "output_type": "stream",
     "text": [
      "Epoch 026:\n",
      "\t- Training accuracy   : 0.8750\n",
      "\t- Training loss       : 1.5862\n",
      "\t- Validation accuracy : 0.897\n",
      "\t- Validation loss : 1.6355\n",
      "=========================================\n"
     ]
    },
    {
     "name": "stderr",
     "output_type": "stream",
     "text": [
      "Epoch n.27 (Train): 1875it [00:54, 34.66it/s]\n",
      "Epoch n.27 (Validation): 100%|██████████| 313/313 [00:03<00:00, 79.88it/s]\n"
     ]
    },
    {
     "name": "stdout",
     "output_type": "stream",
     "text": [
      "Epoch 027:\n",
      "\t- Training accuracy   : 0.8750\n",
      "\t- Training loss       : 1.5884\n",
      "\t- Validation accuracy : 0.890\n",
      "\t- Validation loss : 1.5236\n",
      "=========================================\n"
     ]
    },
    {
     "name": "stderr",
     "output_type": "stream",
     "text": [
      "Epoch n.28 (Train): 1875it [00:54, 34.54it/s]\n",
      "Epoch n.28 (Validation): 100%|██████████| 313/313 [00:03<00:00, 98.65it/s] \n"
     ]
    },
    {
     "name": "stdout",
     "output_type": "stream",
     "text": [
      "Epoch 028:\n",
      "\t- Training accuracy   : 0.9375\n",
      "\t- Training loss       : 1.5218\n",
      "\t- Validation accuracy : 0.908\n",
      "\t- Validation loss : 1.5512\n",
      "=========================================\n"
     ]
    },
    {
     "name": "stderr",
     "output_type": "stream",
     "text": [
      "Epoch n.29 (Train): 1875it [00:51, 36.11it/s]\n",
      "Epoch n.29 (Validation): 100%|██████████| 313/313 [00:03<00:00, 97.30it/s] \n"
     ]
    },
    {
     "name": "stdout",
     "output_type": "stream",
     "text": [
      "Epoch 029:\n",
      "\t- Training accuracy   : 0.9688\n",
      "\t- Training loss       : 1.4924\n",
      "\t- Validation accuracy : 0.901\n",
      "\t- Validation loss : 1.5740\n",
      "=========================================\n"
     ]
    },
    {
     "name": "stderr",
     "output_type": "stream",
     "text": [
      "Epoch n.30 (Train): 1875it [00:52, 36.06it/s]\n",
      "Epoch n.30 (Validation): 100%|██████████| 313/313 [00:03<00:00, 86.78it/s]\n"
     ]
    },
    {
     "name": "stdout",
     "output_type": "stream",
     "text": [
      "Epoch 030:\n",
      "\t- Training accuracy   : 0.8750\n",
      "\t- Training loss       : 1.5939\n",
      "\t- Validation accuracy : 0.898\n",
      "\t- Validation loss : 1.5861\n",
      "=========================================\n"
     ]
    },
    {
     "name": "stderr",
     "output_type": "stream",
     "text": [
      "Epoch n.31 (Train): 1875it [00:53, 35.35it/s]\n",
      "Epoch n.31 (Validation): 100%|██████████| 313/313 [00:03<00:00, 79.43it/s]\n"
     ]
    },
    {
     "name": "stdout",
     "output_type": "stream",
     "text": [
      "Epoch 031:\n",
      "\t- Training accuracy   : 0.9688\n",
      "\t- Training loss       : 1.4924\n",
      "\t- Validation accuracy : 0.900\n",
      "\t- Validation loss : 1.5861\n",
      "=========================================\n"
     ]
    },
    {
     "name": "stderr",
     "output_type": "stream",
     "text": [
      "Epoch n.32 (Train): 1875it [00:52, 35.82it/s]\n",
      "Epoch n.32 (Validation): 100%|██████████| 313/313 [00:03<00:00, 92.01it/s]\n"
     ]
    },
    {
     "name": "stdout",
     "output_type": "stream",
     "text": [
      "Epoch 032:\n",
      "\t- Training accuracy   : 0.9375\n",
      "\t- Training loss       : 1.5230\n",
      "\t- Validation accuracy : 0.900\n",
      "\t- Validation loss : 1.5245\n",
      "=========================================\n"
     ]
    },
    {
     "name": "stderr",
     "output_type": "stream",
     "text": [
      "Epoch n.33 (Train): 1875it [00:50, 37.26it/s]\n",
      "Epoch n.33 (Validation): 100%|██████████| 313/313 [00:03<00:00, 97.72it/s] \n"
     ]
    },
    {
     "name": "stdout",
     "output_type": "stream",
     "text": [
      "Epoch 033:\n",
      "\t- Training accuracy   : 0.9688\n",
      "\t- Training loss       : 1.4924\n",
      "\t- Validation accuracy : 0.905\n",
      "\t- Validation loss : 1.5236\n",
      "=========================================\n"
     ]
    },
    {
     "name": "stderr",
     "output_type": "stream",
     "text": [
      "Epoch n.34 (Train): 1875it [00:50, 37.13it/s]\n",
      "Epoch n.34 (Validation): 100%|██████████| 313/313 [00:03<00:00, 95.39it/s] \n"
     ]
    },
    {
     "name": "stdout",
     "output_type": "stream",
     "text": [
      "Epoch 034:\n",
      "\t- Training accuracy   : 0.8438\n",
      "\t- Training loss       : 1.6174\n",
      "\t- Validation accuracy : 0.898\n",
      "\t- Validation loss : 1.5861\n",
      "=========================================\n"
     ]
    },
    {
     "name": "stderr",
     "output_type": "stream",
     "text": [
      "Epoch n.35 (Train): 1875it [00:49, 37.71it/s]\n",
      "Epoch n.35 (Validation): 100%|██████████| 313/313 [00:03<00:00, 99.47it/s] \n"
     ]
    },
    {
     "name": "stdout",
     "output_type": "stream",
     "text": [
      "Epoch 035:\n",
      "\t- Training accuracy   : 0.9062\n",
      "\t- Training loss       : 1.5549\n",
      "\t- Validation accuracy : 0.883\n",
      "\t- Validation loss : 1.5236\n",
      "=========================================\n"
     ]
    },
    {
     "name": "stderr",
     "output_type": "stream",
     "text": [
      "Epoch n.36 (Train): 1875it [00:51, 36.49it/s]\n",
      "Epoch n.36 (Validation): 100%|██████████| 313/313 [00:03<00:00, 93.17it/s]\n"
     ]
    },
    {
     "name": "stdout",
     "output_type": "stream",
     "text": [
      "Epoch 036:\n",
      "\t- Training accuracy   : 0.8438\n",
      "\t- Training loss       : 1.6176\n",
      "\t- Validation accuracy : 0.905\n",
      "\t- Validation loss : 1.5236\n",
      "=========================================\n"
     ]
    },
    {
     "name": "stderr",
     "output_type": "stream",
     "text": [
      "Epoch n.37 (Train): 1875it [00:52, 35.78it/s]\n",
      "Epoch n.37 (Validation): 100%|██████████| 313/313 [00:03<00:00, 90.29it/s]\n"
     ]
    },
    {
     "name": "stdout",
     "output_type": "stream",
     "text": [
      "Epoch 037:\n",
      "\t- Training accuracy   : 0.8750\n",
      "\t- Training loss       : 1.5861\n",
      "\t- Validation accuracy : 0.906\n",
      "\t- Validation loss : 1.5236\n",
      "=========================================\n"
     ]
    },
    {
     "name": "stderr",
     "output_type": "stream",
     "text": [
      "Epoch n.38 (Train): 1875it [00:52, 35.69it/s]\n",
      "Epoch n.38 (Validation): 100%|██████████| 313/313 [00:03<00:00, 94.03it/s] \n"
     ]
    },
    {
     "name": "stdout",
     "output_type": "stream",
     "text": [
      "Epoch 038:\n",
      "\t- Training accuracy   : 0.8438\n",
      "\t- Training loss       : 1.6174\n",
      "\t- Validation accuracy : 0.902\n",
      "\t- Validation loss : 1.5861\n",
      "=========================================\n"
     ]
    },
    {
     "name": "stderr",
     "output_type": "stream",
     "text": [
      "Epoch n.39 (Train): 1875it [00:52, 35.61it/s]\n",
      "Epoch n.39 (Validation): 100%|██████████| 313/313 [00:03<00:00, 88.85it/s] \n"
     ]
    },
    {
     "name": "stdout",
     "output_type": "stream",
     "text": [
      "Epoch 039:\n",
      "\t- Training accuracy   : 0.9062\n",
      "\t- Training loss       : 1.5549\n",
      "\t- Validation accuracy : 0.899\n",
      "\t- Validation loss : 1.5236\n",
      "=========================================\n"
     ]
    },
    {
     "name": "stderr",
     "output_type": "stream",
     "text": [
      "Epoch n.40 (Train): 1875it [00:53, 35.35it/s]\n",
      "Epoch n.40 (Validation): 100%|██████████| 313/313 [00:03<00:00, 94.11it/s]\n"
     ]
    },
    {
     "name": "stdout",
     "output_type": "stream",
     "text": [
      "Epoch 040:\n",
      "\t- Training accuracy   : 0.9062\n",
      "\t- Training loss       : 1.5549\n",
      "\t- Validation accuracy : 0.903\n",
      "\t- Validation loss : 1.6461\n",
      "=========================================\n"
     ]
    },
    {
     "name": "stderr",
     "output_type": "stream",
     "text": [
      "Epoch n.41 (Train): 1875it [00:52, 35.83it/s]\n",
      "Epoch n.41 (Validation): 100%|██████████| 313/313 [00:03<00:00, 83.77it/s]\n"
     ]
    },
    {
     "name": "stdout",
     "output_type": "stream",
     "text": [
      "Epoch 041:\n",
      "\t- Training accuracy   : 0.9375\n",
      "\t- Training loss       : 1.5230\n",
      "\t- Validation accuracy : 0.906\n",
      "\t- Validation loss : 1.5236\n",
      "=========================================\n"
     ]
    },
    {
     "name": "stderr",
     "output_type": "stream",
     "text": [
      "Epoch n.42 (Train): 1875it [00:51, 36.22it/s]\n",
      "Epoch n.42 (Validation): 100%|██████████| 313/313 [00:03<00:00, 103.79it/s]\n"
     ]
    },
    {
     "name": "stdout",
     "output_type": "stream",
     "text": [
      "Epoch 042:\n",
      "\t- Training accuracy   : 0.8750\n",
      "\t- Training loss       : 1.5861\n",
      "\t- Validation accuracy : 0.908\n",
      "\t- Validation loss : 1.5880\n",
      "=========================================\n"
     ]
    },
    {
     "name": "stderr",
     "output_type": "stream",
     "text": [
      "Epoch n.43 (Train): 1875it [00:52, 36.03it/s]\n",
      "Epoch n.43 (Validation): 100%|██████████| 313/313 [00:03<00:00, 98.07it/s] \n"
     ]
    },
    {
     "name": "stdout",
     "output_type": "stream",
     "text": [
      "Epoch 043:\n",
      "\t- Training accuracy   : 0.8750\n",
      "\t- Training loss       : 1.5860\n",
      "\t- Validation accuracy : 0.894\n",
      "\t- Validation loss : 1.5861\n",
      "=========================================\n"
     ]
    },
    {
     "name": "stderr",
     "output_type": "stream",
     "text": [
      "Epoch n.44 (Train): 1875it [00:51, 36.37it/s]\n",
      "Epoch n.44 (Validation): 100%|██████████| 313/313 [00:03<00:00, 80.26it/s]\n"
     ]
    },
    {
     "name": "stdout",
     "output_type": "stream",
     "text": [
      "Epoch 044:\n",
      "\t- Training accuracy   : 0.9375\n",
      "\t- Training loss       : 1.5237\n",
      "\t- Validation accuracy : 0.907\n",
      "\t- Validation loss : 1.6486\n",
      "=========================================\n"
     ]
    },
    {
     "name": "stderr",
     "output_type": "stream",
     "text": [
      "Epoch n.45 (Train): 1875it [00:51, 36.66it/s]\n",
      "Epoch n.45 (Validation): 100%|██████████| 313/313 [00:03<00:00, 96.62it/s] \n"
     ]
    },
    {
     "name": "stdout",
     "output_type": "stream",
     "text": [
      "Epoch 045:\n",
      "\t- Training accuracy   : 0.8438\n",
      "\t- Training loss       : 1.6174\n",
      "\t- Validation accuracy : 0.902\n",
      "\t- Validation loss : 1.5858\n",
      "=========================================\n"
     ]
    },
    {
     "name": "stderr",
     "output_type": "stream",
     "text": [
      "Epoch n.46 (Train): 1875it [00:53, 35.04it/s]\n",
      "Epoch n.46 (Validation): 100%|██████████| 313/313 [00:03<00:00, 100.65it/s]\n"
     ]
    },
    {
     "name": "stdout",
     "output_type": "stream",
     "text": [
      "Epoch 046:\n",
      "\t- Training accuracy   : 0.9062\n",
      "\t- Training loss       : 1.5549\n",
      "\t- Validation accuracy : 0.882\n",
      "\t- Validation loss : 1.5846\n",
      "=========================================\n"
     ]
    },
    {
     "name": "stderr",
     "output_type": "stream",
     "text": [
      "Epoch n.47 (Train): 1875it [00:53, 35.06it/s]\n",
      "Epoch n.47 (Validation): 100%|██████████| 313/313 [00:03<00:00, 95.12it/s] \n"
     ]
    },
    {
     "name": "stdout",
     "output_type": "stream",
     "text": [
      "Epoch 047:\n",
      "\t- Training accuracy   : 0.9062\n",
      "\t- Training loss       : 1.5549\n",
      "\t- Validation accuracy : 0.894\n",
      "\t- Validation loss : 1.6486\n",
      "=========================================\n"
     ]
    },
    {
     "name": "stderr",
     "output_type": "stream",
     "text": [
      "Epoch n.48 (Train): 1875it [00:53, 34.84it/s]\n",
      "Epoch n.48 (Validation): 100%|██████████| 313/313 [00:03<00:00, 95.51it/s] \n"
     ]
    },
    {
     "name": "stdout",
     "output_type": "stream",
     "text": [
      "Epoch 048:\n",
      "\t- Training accuracy   : 0.9062\n",
      "\t- Training loss       : 1.5549\n",
      "\t- Validation accuracy : 0.906\n",
      "\t- Validation loss : 1.6550\n",
      "=========================================\n"
     ]
    },
    {
     "name": "stderr",
     "output_type": "stream",
     "text": [
      "Epoch n.49 (Train): 1875it [00:53, 34.83it/s]\n",
      "Epoch n.49 (Validation): 100%|██████████| 313/313 [00:03<00:00, 96.90it/s] \n"
     ]
    },
    {
     "name": "stdout",
     "output_type": "stream",
     "text": [
      "Epoch 049:\n",
      "\t- Training accuracy   : 0.9375\n",
      "\t- Training loss       : 1.5237\n",
      "\t- Validation accuracy : 0.897\n",
      "\t- Validation loss : 1.5251\n",
      "=========================================\n"
     ]
    },
    {
     "name": "stderr",
     "output_type": "stream",
     "text": [
      "Epoch n.50 (Train): 1875it [00:55, 33.70it/s]\n",
      "Epoch n.50 (Validation): 100%|██████████| 313/313 [00:03<00:00, 95.46it/s] \n"
     ]
    },
    {
     "name": "stdout",
     "output_type": "stream",
     "text": [
      "Epoch 050:\n",
      "\t- Training accuracy   : 0.9375\n",
      "\t- Training loss       : 1.5236\n",
      "\t- Validation accuracy : 0.900\n",
      "\t- Validation loss : 1.6486\n",
      "=========================================\n"
     ]
    },
    {
     "name": "stderr",
     "output_type": "stream",
     "text": [
      "Epoch n.51 (Train): 1875it [00:57, 32.71it/s]\n",
      "Epoch n.51 (Validation): 100%|██████████| 313/313 [00:03<00:00, 80.77it/s]\n"
     ]
    },
    {
     "name": "stdout",
     "output_type": "stream",
     "text": [
      "Epoch 051:\n",
      "\t- Training accuracy   : 0.9375\n",
      "\t- Training loss       : 1.5151\n",
      "\t- Validation accuracy : 0.894\n",
      "\t- Validation loss : 1.5839\n",
      "=========================================\n"
     ]
    },
    {
     "name": "stderr",
     "output_type": "stream",
     "text": [
      "Epoch n.52 (Train): 1875it [-1:59:17, -42.82it/s]\n",
      "Epoch n.52 (Validation): 100%|██████████| 313/313 [00:03<00:00, 91.92it/s] \n"
     ]
    },
    {
     "name": "stdout",
     "output_type": "stream",
     "text": [
      "Epoch 052:\n",
      "\t- Training accuracy   : 0.9062\n",
      "\t- Training loss       : 1.5549\n",
      "\t- Validation accuracy : 0.901\n",
      "\t- Validation loss : 1.5257\n",
      "=========================================\n"
     ]
    },
    {
     "name": "stderr",
     "output_type": "stream",
     "text": [
      "Epoch n.53 (Train): 1875it [00:56, 33.23it/s]\n",
      "Epoch n.53 (Validation): 100%|██████████| 313/313 [00:03<00:00, 87.08it/s]\n"
     ]
    },
    {
     "name": "stdout",
     "output_type": "stream",
     "text": [
      "Epoch 053:\n",
      "\t- Training accuracy   : 0.9062\n",
      "\t- Training loss       : 1.5549\n",
      "\t- Validation accuracy : 0.906\n",
      "\t- Validation loss : 1.5215\n",
      "=========================================\n"
     ]
    },
    {
     "name": "stderr",
     "output_type": "stream",
     "text": [
      "Epoch n.54 (Train): 1875it [00:57, 32.57it/s]\n",
      "Epoch n.54 (Validation): 100%|██████████| 313/313 [00:03<00:00, 97.26it/s] \n"
     ]
    },
    {
     "name": "stdout",
     "output_type": "stream",
     "text": [
      "Epoch 054:\n",
      "\t- Training accuracy   : 0.8438\n",
      "\t- Training loss       : 1.6174\n",
      "\t- Validation accuracy : 0.909\n",
      "\t- Validation loss : 1.5230\n",
      "=========================================\n"
     ]
    },
    {
     "name": "stderr",
     "output_type": "stream",
     "text": [
      "Epoch n.55 (Train): 1875it [00:55, 33.74it/s]\n",
      "Epoch n.55 (Validation): 100%|██████████| 313/313 [00:03<00:00, 95.83it/s] \n"
     ]
    },
    {
     "name": "stdout",
     "output_type": "stream",
     "text": [
      "Epoch 055:\n",
      "\t- Training accuracy   : 0.9375\n",
      "\t- Training loss       : 1.5237\n",
      "\t- Validation accuracy : 0.904\n",
      "\t- Validation loss : 1.5236\n",
      "=========================================\n"
     ]
    },
    {
     "name": "stderr",
     "output_type": "stream",
     "text": [
      "Epoch n.56 (Train): 1875it [00:59, 31.53it/s]\n",
      "Epoch n.56 (Validation): 100%|██████████| 313/313 [00:03<00:00, 97.84it/s] \n"
     ]
    },
    {
     "name": "stdout",
     "output_type": "stream",
     "text": [
      "Epoch 056:\n",
      "\t- Training accuracy   : 0.8750\n",
      "\t- Training loss       : 1.5862\n",
      "\t- Validation accuracy : 0.889\n",
      "\t- Validation loss : 1.5236\n",
      "=========================================\n"
     ]
    },
    {
     "name": "stderr",
     "output_type": "stream",
     "text": [
      "Epoch n.57 (Train): 1875it [00:56, 32.92it/s]\n",
      "Epoch n.57 (Validation): 100%|██████████| 313/313 [00:03<00:00, 92.31it/s]\n"
     ]
    },
    {
     "name": "stdout",
     "output_type": "stream",
     "text": [
      "Epoch 057:\n",
      "\t- Training accuracy   : 0.9062\n",
      "\t- Training loss       : 1.5549\n",
      "\t- Validation accuracy : 0.904\n",
      "\t- Validation loss : 1.5861\n",
      "=========================================\n"
     ]
    },
    {
     "name": "stderr",
     "output_type": "stream",
     "text": [
      "Epoch n.58 (Train): 1875it [01:00, 31.17it/s]\n",
      "Epoch n.58 (Validation): 100%|██████████| 313/313 [00:03<00:00, 95.82it/s] \n"
     ]
    },
    {
     "name": "stdout",
     "output_type": "stream",
     "text": [
      "Epoch 058:\n",
      "\t- Training accuracy   : 0.8750\n",
      "\t- Training loss       : 1.5862\n",
      "\t- Validation accuracy : 0.901\n",
      "\t- Validation loss : 1.5861\n",
      "=========================================\n"
     ]
    },
    {
     "name": "stderr",
     "output_type": "stream",
     "text": [
      "Epoch n.59 (Train): 1875it [01:04, 29.12it/s]\n",
      "Epoch n.59 (Validation): 100%|██████████| 313/313 [00:03<00:00, 100.07it/s]\n"
     ]
    },
    {
     "name": "stdout",
     "output_type": "stream",
     "text": [
      "Epoch 059:\n",
      "\t- Training accuracy   : 1.0000\n",
      "\t- Training loss       : 1.4612\n",
      "\t- Validation accuracy : 0.896\n",
      "\t- Validation loss : 1.6461\n",
      "=========================================\n"
     ]
    },
    {
     "name": "stderr",
     "output_type": "stream",
     "text": [
      "Epoch n.60 (Train): 1875it [00:58, 32.31it/s]\n",
      "Epoch n.60 (Validation): 100%|██████████| 313/313 [00:03<00:00, 98.22it/s] \n"
     ]
    },
    {
     "name": "stdout",
     "output_type": "stream",
     "text": [
      "Epoch 060:\n",
      "\t- Training accuracy   : 0.9375\n",
      "\t- Training loss       : 1.5237\n",
      "\t- Validation accuracy : 0.895\n",
      "\t- Validation loss : 1.6424\n",
      "=========================================\n"
     ]
    },
    {
     "name": "stderr",
     "output_type": "stream",
     "text": [
      "Epoch n.61 (Train): 1875it [00:58, 31.97it/s]\n",
      "Epoch n.61 (Validation): 100%|██████████| 313/313 [00:03<00:00, 98.25it/s] \n"
     ]
    },
    {
     "name": "stdout",
     "output_type": "stream",
     "text": [
      "Epoch 061:\n",
      "\t- Training accuracy   : 0.9375\n",
      "\t- Training loss       : 1.5237\n",
      "\t- Validation accuracy : 0.900\n",
      "\t- Validation loss : 1.5861\n",
      "=========================================\n"
     ]
    },
    {
     "name": "stderr",
     "output_type": "stream",
     "text": [
      "Epoch n.62 (Train): 1875it [00:59, 31.67it/s]\n",
      "Epoch n.62 (Validation): 100%|██████████| 313/313 [00:03<00:00, 94.76it/s]\n"
     ]
    },
    {
     "name": "stdout",
     "output_type": "stream",
     "text": [
      "Epoch 062:\n",
      "\t- Training accuracy   : 0.9688\n",
      "\t- Training loss       : 1.4923\n",
      "\t- Validation accuracy : 0.905\n",
      "\t- Validation loss : 1.5861\n",
      "=========================================\n"
     ]
    },
    {
     "name": "stderr",
     "output_type": "stream",
     "text": [
      "Epoch n.63 (Train): 1875it [01:00, 31.03it/s]\n",
      "Epoch n.63 (Validation): 100%|██████████| 313/313 [00:03<00:00, 96.24it/s] \n"
     ]
    },
    {
     "name": "stdout",
     "output_type": "stream",
     "text": [
      "Epoch 063:\n",
      "\t- Training accuracy   : 0.9062\n",
      "\t- Training loss       : 1.5549\n",
      "\t- Validation accuracy : 0.900\n",
      "\t- Validation loss : 1.5861\n",
      "=========================================\n"
     ]
    },
    {
     "name": "stderr",
     "output_type": "stream",
     "text": [
      "Epoch n.64 (Train): 1875it [00:59, 31.32it/s]\n",
      "Epoch n.64 (Validation): 100%|██████████| 313/313 [00:03<00:00, 98.73it/s] \n"
     ]
    },
    {
     "name": "stdout",
     "output_type": "stream",
     "text": [
      "Epoch 064:\n",
      "\t- Training accuracy   : 0.9375\n",
      "\t- Training loss       : 1.5236\n",
      "\t- Validation accuracy : 0.894\n",
      "\t- Validation loss : 1.5858\n",
      "=========================================\n"
     ]
    },
    {
     "name": "stderr",
     "output_type": "stream",
     "text": [
      "Epoch n.65 (Train): 1875it [01:07, 27.95it/s]\n",
      "Epoch n.65 (Validation): 100%|██████████| 313/313 [00:03<00:00, 97.34it/s] \n"
     ]
    },
    {
     "name": "stdout",
     "output_type": "stream",
     "text": [
      "Epoch 065:\n",
      "\t- Training accuracy   : 0.9688\n",
      "\t- Training loss       : 1.4924\n",
      "\t- Validation accuracy : 0.895\n",
      "\t- Validation loss : 1.7110\n",
      "=========================================\n"
     ]
    },
    {
     "name": "stderr",
     "output_type": "stream",
     "text": [
      "Epoch n.66 (Train): 1875it [01:01, 30.24it/s]\n",
      "Epoch n.66 (Validation): 100%|██████████| 313/313 [00:03<00:00, 100.20it/s]\n"
     ]
    },
    {
     "name": "stdout",
     "output_type": "stream",
     "text": [
      "Epoch 066:\n",
      "\t- Training accuracy   : 0.9062\n",
      "\t- Training loss       : 1.5549\n",
      "\t- Validation accuracy : 0.903\n",
      "\t- Validation loss : 1.7111\n",
      "=========================================\n"
     ]
    },
    {
     "name": "stderr",
     "output_type": "stream",
     "text": [
      "Epoch n.67 (Train): 1875it [01:07, 27.84it/s]\n",
      "Epoch n.67 (Validation): 100%|██████████| 313/313 [00:03<00:00, 99.65it/s] \n"
     ]
    },
    {
     "name": "stdout",
     "output_type": "stream",
     "text": [
      "Epoch 067:\n",
      "\t- Training accuracy   : 0.9375\n",
      "\t- Training loss       : 1.5237\n",
      "\t- Validation accuracy : 0.902\n",
      "\t- Validation loss : 1.6487\n",
      "=========================================\n"
     ]
    },
    {
     "name": "stderr",
     "output_type": "stream",
     "text": [
      "Epoch n.68 (Train): 1875it [01:02, 30.11it/s]\n",
      "Epoch n.68 (Validation): 100%|██████████| 313/313 [00:03<00:00, 99.04it/s] \n"
     ]
    },
    {
     "name": "stdout",
     "output_type": "stream",
     "text": [
      "Epoch 068:\n",
      "\t- Training accuracy   : 0.8750\n",
      "\t- Training loss       : 1.5861\n",
      "\t- Validation accuracy : 0.903\n",
      "\t- Validation loss : 1.6484\n",
      "=========================================\n"
     ]
    },
    {
     "name": "stderr",
     "output_type": "stream",
     "text": [
      "Epoch n.69 (Train): 1875it [01:06, 28.08it/s]\n",
      "Epoch n.69 (Validation): 100%|██████████| 313/313 [00:03<00:00, 95.17it/s] \n"
     ]
    },
    {
     "name": "stdout",
     "output_type": "stream",
     "text": [
      "Epoch 069:\n",
      "\t- Training accuracy   : 0.9375\n",
      "\t- Training loss       : 1.5237\n",
      "\t- Validation accuracy : 0.901\n",
      "\t- Validation loss : 1.5861\n",
      "=========================================\n"
     ]
    },
    {
     "name": "stderr",
     "output_type": "stream",
     "text": [
      "Epoch n.70 (Train): 1875it [01:10, 26.56it/s]\n",
      "Epoch n.70 (Validation): 100%|██████████| 313/313 [00:03<00:00, 96.89it/s] \n"
     ]
    },
    {
     "name": "stdout",
     "output_type": "stream",
     "text": [
      "Epoch 070:\n",
      "\t- Training accuracy   : 1.0000\n",
      "\t- Training loss       : 1.4612\n",
      "\t- Validation accuracy : 0.906\n",
      "\t- Validation loss : 1.5861\n",
      "=========================================\n"
     ]
    },
    {
     "name": "stderr",
     "output_type": "stream",
     "text": [
      "Epoch n.71 (Train): 1875it [01:11, 26.39it/s]\n",
      "Epoch n.71 (Validation): 100%|██████████| 313/313 [00:03<00:00, 103.00it/s]\n"
     ]
    },
    {
     "name": "stdout",
     "output_type": "stream",
     "text": [
      "Epoch 071:\n",
      "\t- Training accuracy   : 0.9688\n",
      "\t- Training loss       : 1.4924\n",
      "\t- Validation accuracy : 0.901\n",
      "\t- Validation loss : 1.5236\n",
      "=========================================\n"
     ]
    },
    {
     "name": "stderr",
     "output_type": "stream",
     "text": [
      "Epoch n.72 (Train): 1875it [01:07, 27.65it/s]\n",
      "Epoch n.72 (Validation): 100%|██████████| 313/313 [00:03<00:00, 98.78it/s] \n"
     ]
    },
    {
     "name": "stdout",
     "output_type": "stream",
     "text": [
      "Epoch 072:\n",
      "\t- Training accuracy   : 0.9062\n",
      "\t- Training loss       : 1.5549\n",
      "\t- Validation accuracy : 0.899\n",
      "\t- Validation loss : 1.5861\n",
      "=========================================\n"
     ]
    },
    {
     "name": "stderr",
     "output_type": "stream",
     "text": [
      "Epoch n.73 (Train): 1875it [01:09, 26.80it/s]\n",
      "Epoch n.73 (Validation): 100%|██████████| 313/313 [00:03<00:00, 97.80it/s] \n"
     ]
    },
    {
     "name": "stdout",
     "output_type": "stream",
     "text": [
      "Epoch 073:\n",
      "\t- Training accuracy   : 0.7812\n",
      "\t- Training loss       : 1.6661\n",
      "\t- Validation accuracy : 0.906\n",
      "\t- Validation loss : 1.5861\n",
      "=========================================\n"
     ]
    },
    {
     "name": "stderr",
     "output_type": "stream",
     "text": [
      "Epoch n.74 (Train): 1875it [01:08, 27.54it/s]\n",
      "Epoch n.74 (Validation): 100%|██████████| 313/313 [00:03<00:00, 99.87it/s] \n"
     ]
    },
    {
     "name": "stdout",
     "output_type": "stream",
     "text": [
      "Epoch 074:\n",
      "\t- Training accuracy   : 0.9688\n",
      "\t- Training loss       : 1.4924\n",
      "\t- Validation accuracy : 0.901\n",
      "\t- Validation loss : 1.5236\n",
      "=========================================\n"
     ]
    },
    {
     "name": "stderr",
     "output_type": "stream",
     "text": [
      "Epoch n.75 (Train): 1875it [01:10, 26.78it/s]\n",
      "Epoch n.75 (Validation): 100%|██████████| 313/313 [00:03<00:00, 100.03it/s]\n"
     ]
    },
    {
     "name": "stdout",
     "output_type": "stream",
     "text": [
      "Epoch 075:\n",
      "\t- Training accuracy   : 0.9688\n",
      "\t- Training loss       : 1.4930\n",
      "\t- Validation accuracy : 0.895\n",
      "\t- Validation loss : 1.6486\n",
      "=========================================\n"
     ]
    },
    {
     "name": "stderr",
     "output_type": "stream",
     "text": [
      "Epoch n.76 (Train): 1875it [01:10, 26.63it/s]\n",
      "Epoch n.76 (Validation): 100%|██████████| 313/313 [00:03<00:00, 87.01it/s]\n"
     ]
    },
    {
     "name": "stdout",
     "output_type": "stream",
     "text": [
      "Epoch 076:\n",
      "\t- Training accuracy   : 0.9375\n",
      "\t- Training loss       : 1.5236\n",
      "\t- Validation accuracy : 0.901\n",
      "\t- Validation loss : 1.5861\n",
      "=========================================\n"
     ]
    },
    {
     "name": "stderr",
     "output_type": "stream",
     "text": [
      "Epoch n.77 (Train): 1875it [01:15, 24.90it/s]\n",
      "Epoch n.77 (Validation): 100%|██████████| 313/313 [00:03<00:00, 89.86it/s] \n"
     ]
    },
    {
     "name": "stdout",
     "output_type": "stream",
     "text": [
      "Epoch 077:\n",
      "\t- Training accuracy   : 0.9688\n",
      "\t- Training loss       : 1.4924\n",
      "\t- Validation accuracy : 0.897\n",
      "\t- Validation loss : 1.5307\n",
      "=========================================\n"
     ]
    },
    {
     "name": "stderr",
     "output_type": "stream",
     "text": [
      "Epoch n.78 (Train): 1875it [01:19, 23.66it/s]\n",
      "Epoch n.78 (Validation): 100%|██████████| 313/313 [00:03<00:00, 91.39it/s] \n"
     ]
    },
    {
     "name": "stdout",
     "output_type": "stream",
     "text": [
      "Epoch 078:\n",
      "\t- Training accuracy   : 0.9062\n",
      "\t- Training loss       : 1.5549\n",
      "\t- Validation accuracy : 0.895\n",
      "\t- Validation loss : 1.5861\n",
      "=========================================\n"
     ]
    },
    {
     "name": "stderr",
     "output_type": "stream",
     "text": [
      "Epoch n.79 (Train): 1875it [01:15, 24.74it/s]\n",
      "Epoch n.79 (Validation): 100%|██████████| 313/313 [00:03<00:00, 93.44it/s]\n"
     ]
    },
    {
     "name": "stdout",
     "output_type": "stream",
     "text": [
      "Epoch 079:\n",
      "\t- Training accuracy   : 1.0000\n",
      "\t- Training loss       : 1.4612\n",
      "\t- Validation accuracy : 0.900\n",
      "\t- Validation loss : 1.5862\n",
      "=========================================\n"
     ]
    },
    {
     "name": "stderr",
     "output_type": "stream",
     "text": [
      "Epoch n.80 (Train): 1875it [01:24, 22.12it/s]\n",
      "Epoch n.80 (Validation): 100%|██████████| 313/313 [00:03<00:00, 90.55it/s] \n"
     ]
    },
    {
     "name": "stdout",
     "output_type": "stream",
     "text": [
      "Epoch 080:\n",
      "\t- Training accuracy   : 0.9375\n",
      "\t- Training loss       : 1.5321\n",
      "\t- Validation accuracy : 0.903\n",
      "\t- Validation loss : 1.5859\n",
      "=========================================\n"
     ]
    },
    {
     "name": "stderr",
     "output_type": "stream",
     "text": [
      "Epoch n.81 (Train): 1875it [01:18, 23.87it/s]\n",
      "Epoch n.81 (Validation): 100%|██████████| 313/313 [00:03<00:00, 93.06it/s]\n"
     ]
    },
    {
     "name": "stdout",
     "output_type": "stream",
     "text": [
      "Epoch 081:\n",
      "\t- Training accuracy   : 0.9375\n",
      "\t- Training loss       : 1.5237\n",
      "\t- Validation accuracy : 0.893\n",
      "\t- Validation loss : 1.5889\n",
      "=========================================\n"
     ]
    },
    {
     "name": "stderr",
     "output_type": "stream",
     "text": [
      "Epoch n.82 (Train): 1875it [01:18, 23.84it/s]\n",
      "Epoch n.82 (Validation): 100%|██████████| 313/313 [00:03<00:00, 97.14it/s] \n"
     ]
    },
    {
     "name": "stdout",
     "output_type": "stream",
     "text": [
      "Epoch 082:\n",
      "\t- Training accuracy   : 0.9688\n",
      "\t- Training loss       : 1.4924\n",
      "\t- Validation accuracy : 0.910\n",
      "\t- Validation loss : 1.5861\n",
      "=========================================\n"
     ]
    },
    {
     "name": "stderr",
     "output_type": "stream",
     "text": [
      "Epoch n.83 (Train): 1875it [01:18, 23.82it/s]\n",
      "Epoch n.83 (Validation): 100%|██████████| 313/313 [00:03<00:00, 96.56it/s] \n"
     ]
    },
    {
     "name": "stdout",
     "output_type": "stream",
     "text": [
      "Epoch 083:\n",
      "\t- Training accuracy   : 0.9688\n",
      "\t- Training loss       : 1.4924\n",
      "\t- Validation accuracy : 0.896\n",
      "\t- Validation loss : 1.5861\n",
      "=========================================\n"
     ]
    },
    {
     "name": "stderr",
     "output_type": "stream",
     "text": [
      "Epoch n.84 (Train): 1875it [01:23, 22.51it/s]\n",
      "Epoch n.84 (Validation): 100%|██████████| 313/313 [00:03<00:00, 89.68it/s]\n"
     ]
    },
    {
     "name": "stdout",
     "output_type": "stream",
     "text": [
      "Epoch 084:\n",
      "\t- Training accuracy   : 0.9375\n",
      "\t- Training loss       : 1.5237\n",
      "\t- Validation accuracy : 0.895\n",
      "\t- Validation loss : 1.5858\n",
      "=========================================\n"
     ]
    },
    {
     "name": "stderr",
     "output_type": "stream",
     "text": [
      "Epoch n.85 (Train): 1875it [01:13, 25.54it/s]\n",
      "Epoch n.85 (Validation): 100%|██████████| 313/313 [00:03<00:00, 99.15it/s] \n"
     ]
    },
    {
     "name": "stdout",
     "output_type": "stream",
     "text": [
      "Epoch 085:\n",
      "\t- Training accuracy   : 0.9062\n",
      "\t- Training loss       : 1.5549\n",
      "\t- Validation accuracy : 0.907\n",
      "\t- Validation loss : 1.5861\n",
      "=========================================\n"
     ]
    },
    {
     "name": "stderr",
     "output_type": "stream",
     "text": [
      "Epoch n.86 (Train): 1875it [01:26, 21.64it/s]\n",
      "Epoch n.86 (Validation): 100%|██████████| 313/313 [00:03<00:00, 93.44it/s]\n"
     ]
    },
    {
     "name": "stdout",
     "output_type": "stream",
     "text": [
      "Epoch 086:\n",
      "\t- Training accuracy   : 0.9375\n",
      "\t- Training loss       : 1.5235\n",
      "\t- Validation accuracy : 0.903\n",
      "\t- Validation loss : 1.6486\n",
      "=========================================\n"
     ]
    },
    {
     "name": "stderr",
     "output_type": "stream",
     "text": [
      "Epoch n.87 (Train): 1875it [01:19, 23.65it/s]\n",
      "Epoch n.87 (Validation): 100%|██████████| 313/313 [00:03<00:00, 99.29it/s] \n"
     ]
    },
    {
     "name": "stdout",
     "output_type": "stream",
     "text": [
      "Epoch 087:\n",
      "\t- Training accuracy   : 0.9688\n",
      "\t- Training loss       : 1.4924\n",
      "\t- Validation accuracy : 0.901\n",
      "\t- Validation loss : 1.6486\n",
      "=========================================\n"
     ]
    },
    {
     "name": "stderr",
     "output_type": "stream",
     "text": [
      "Epoch n.88 (Train): 1875it [01:16, 24.35it/s]\n",
      "Epoch n.88 (Validation): 100%|██████████| 313/313 [00:03<00:00, 97.06it/s] \n"
     ]
    },
    {
     "name": "stdout",
     "output_type": "stream",
     "text": [
      "Epoch 088:\n",
      "\t- Training accuracy   : 0.9375\n",
      "\t- Training loss       : 1.5237\n",
      "\t- Validation accuracy : 0.901\n",
      "\t- Validation loss : 1.6486\n",
      "=========================================\n"
     ]
    },
    {
     "name": "stderr",
     "output_type": "stream",
     "text": [
      "Epoch n.89 (Train): 1875it [01:20, 23.17it/s]\n",
      "Epoch n.89 (Validation): 100%|██████████| 313/313 [00:03<00:00, 98.39it/s] \n"
     ]
    },
    {
     "name": "stdout",
     "output_type": "stream",
     "text": [
      "Epoch 089:\n",
      "\t- Training accuracy   : 0.9375\n",
      "\t- Training loss       : 1.5222\n",
      "\t- Validation accuracy : 0.904\n",
      "\t- Validation loss : 1.5857\n",
      "=========================================\n"
     ]
    },
    {
     "name": "stderr",
     "output_type": "stream",
     "text": [
      "Epoch n.90 (Train): 1875it [01:26, 21.69it/s]\n",
      "Epoch n.90 (Validation): 100%|██████████| 313/313 [00:03<00:00, 93.74it/s]\n"
     ]
    },
    {
     "name": "stdout",
     "output_type": "stream",
     "text": [
      "Epoch 090:\n",
      "\t- Training accuracy   : 0.9688\n",
      "\t- Training loss       : 1.4924\n",
      "\t- Validation accuracy : 0.898\n",
      "\t- Validation loss : 1.5862\n",
      "=========================================\n"
     ]
    },
    {
     "name": "stderr",
     "output_type": "stream",
     "text": [
      "Epoch n.91 (Train): 1875it [01:18, 23.97it/s]\n",
      "Epoch n.91 (Validation): 100%|██████████| 313/313 [00:03<00:00, 98.51it/s] \n"
     ]
    },
    {
     "name": "stdout",
     "output_type": "stream",
     "text": [
      "Epoch 091:\n",
      "\t- Training accuracy   : 0.9062\n",
      "\t- Training loss       : 1.5549\n",
      "\t- Validation accuracy : 0.903\n",
      "\t- Validation loss : 1.5861\n",
      "=========================================\n"
     ]
    },
    {
     "name": "stderr",
     "output_type": "stream",
     "text": [
      "Epoch n.92 (Train): 1875it [01:21, 23.05it/s]\n",
      "Epoch n.92 (Validation): 100%|██████████| 313/313 [00:03<00:00, 97.07it/s] \n"
     ]
    },
    {
     "name": "stdout",
     "output_type": "stream",
     "text": [
      "Epoch 092:\n",
      "\t- Training accuracy   : 0.9688\n",
      "\t- Training loss       : 1.4924\n",
      "\t- Validation accuracy : 0.891\n",
      "\t- Validation loss : 1.5861\n",
      "=========================================\n"
     ]
    },
    {
     "name": "stderr",
     "output_type": "stream",
     "text": [
      "Epoch n.93 (Train): 1875it [01:14, 25.00it/s]\n",
      "Epoch n.93 (Validation): 100%|██████████| 313/313 [00:03<00:00, 97.46it/s] \n"
     ]
    },
    {
     "name": "stdout",
     "output_type": "stream",
     "text": [
      "Epoch 093:\n",
      "\t- Training accuracy   : 0.9375\n",
      "\t- Training loss       : 1.5237\n",
      "\t- Validation accuracy : 0.898\n",
      "\t- Validation loss : 1.5860\n",
      "=========================================\n"
     ]
    },
    {
     "name": "stderr",
     "output_type": "stream",
     "text": [
      "Epoch n.94 (Train): 1875it [01:13, 25.41it/s]\n",
      "Epoch n.94 (Validation): 100%|██████████| 313/313 [00:03<00:00, 97.10it/s]\n"
     ]
    },
    {
     "name": "stdout",
     "output_type": "stream",
     "text": [
      "Epoch 094:\n",
      "\t- Training accuracy   : 0.9688\n",
      "\t- Training loss       : 1.4924\n",
      "\t- Validation accuracy : 0.896\n",
      "\t- Validation loss : 1.5861\n",
      "=========================================\n"
     ]
    },
    {
     "name": "stderr",
     "output_type": "stream",
     "text": [
      "Epoch n.95 (Train): 1875it [01:18, 23.92it/s]\n",
      "Epoch n.95 (Validation): 100%|██████████| 313/313 [00:03<00:00, 92.32it/s]\n"
     ]
    },
    {
     "name": "stdout",
     "output_type": "stream",
     "text": [
      "Epoch 095:\n",
      "\t- Training accuracy   : 0.9062\n",
      "\t- Training loss       : 1.5549\n",
      "\t- Validation accuracy : 0.901\n",
      "\t- Validation loss : 1.5861\n",
      "=========================================\n"
     ]
    },
    {
     "name": "stderr",
     "output_type": "stream",
     "text": [
      "Epoch n.96 (Train): 1875it [01:18, 23.74it/s]\n",
      "Epoch n.96 (Validation): 100%|██████████| 313/313 [00:03<00:00, 99.23it/s] \n"
     ]
    },
    {
     "name": "stdout",
     "output_type": "stream",
     "text": [
      "Epoch 096:\n",
      "\t- Training accuracy   : 0.9062\n",
      "\t- Training loss       : 1.5549\n",
      "\t- Validation accuracy : 0.899\n",
      "\t- Validation loss : 1.5861\n",
      "=========================================\n"
     ]
    },
    {
     "name": "stderr",
     "output_type": "stream",
     "text": [
      "Epoch n.97 (Train): 1875it [01:23, 22.47it/s]\n",
      "Epoch n.97 (Validation): 100%|██████████| 313/313 [00:03<00:00, 102.06it/s]\n"
     ]
    },
    {
     "name": "stdout",
     "output_type": "stream",
     "text": [
      "Epoch 097:\n",
      "\t- Training accuracy   : 0.9375\n",
      "\t- Training loss       : 1.5237\n",
      "\t- Validation accuracy : 0.903\n",
      "\t- Validation loss : 1.5861\n",
      "=========================================\n"
     ]
    },
    {
     "name": "stderr",
     "output_type": "stream",
     "text": [
      "Epoch n.98 (Train): 1875it [01:21, 22.91it/s]\n",
      "Epoch n.98 (Validation): 100%|██████████| 313/313 [00:03<00:00, 96.99it/s] \n"
     ]
    },
    {
     "name": "stdout",
     "output_type": "stream",
     "text": [
      "Epoch 098:\n",
      "\t- Training accuracy   : 0.9688\n",
      "\t- Training loss       : 1.4924\n",
      "\t- Validation accuracy : 0.898\n",
      "\t- Validation loss : 1.5861\n",
      "=========================================\n"
     ]
    },
    {
     "name": "stderr",
     "output_type": "stream",
     "text": [
      "Epoch n.99 (Train): 1875it [01:25, 22.00it/s]\n",
      "Epoch n.99 (Validation): 100%|██████████| 313/313 [00:03<00:00, 102.28it/s]\n"
     ]
    },
    {
     "name": "stdout",
     "output_type": "stream",
     "text": [
      "Epoch 099:\n",
      "\t- Training accuracy   : 0.9375\n",
      "\t- Training loss       : 1.5236\n",
      "\t- Validation accuracy : 0.885\n",
      "\t- Validation loss : 1.5861\n",
      "=========================================\n"
     ]
    },
    {
     "name": "stderr",
     "output_type": "stream",
     "text": [
      "Epoch n.100 (Train): 1875it [01:19, 23.66it/s]\n",
      "Epoch n.100 (Validation): 100%|██████████| 313/313 [00:03<00:00, 104.00it/s]"
     ]
    },
    {
     "name": "stdout",
     "output_type": "stream",
     "text": [
      "Epoch 100:\n",
      "\t- Training accuracy   : 0.9688\n",
      "\t- Training loss       : 1.4924\n",
      "\t- Validation accuracy : 0.898\n",
      "\t- Validation loss : 1.5861\n",
      "=========================================\n"
     ]
    },
    {
     "name": "stderr",
     "output_type": "stream",
     "text": [
      "\n"
     ]
    }
   ],
   "source": [
    "correct = 0\n",
    "total = 0\n",
    "\n",
    "# Train the model\n",
    "for epoch in range(epochs):\n",
    "\n",
    "    model.train()\n",
    "    \n",
    "    for i, (images, labels) in tqdm(enumerate(train_loader), desc=F\"Epoch n.{epoch+1} (Train)\"):\n",
    "        # Forward pass\n",
    "        outputs = model(images)\n",
    "        loss = criterion(outputs, labels)\n",
    "\n",
    "        # Backward pass and optimization\n",
    "        optimizer.zero_grad()\n",
    "        loss.backward()\n",
    "        optimizer.step()\n",
    "        \n",
    "        # Calculate accuracy\n",
    "        _, predicted = torch.max(outputs.data, 1)\n",
    "        correct = (predicted == labels).sum().item()\n",
    "        accuracy = correct / len(labels)\n",
    "\n",
    "    # Test the model\n",
    "    model.eval()\n",
    "\n",
    "    with torch.no_grad():\n",
    "        correct = 0\n",
    "        total = 0\n",
    "        for images, labels in tqdm(test_loader, desc=F\"Epoch n.{epoch+1} (Validation)\"):\n",
    "            outputs = model(images)\n",
    "            lossVal = criterion(outputs, labels)\n",
    "            _, predicted = torch.max(outputs.data, 1)\n",
    "            total += labels.size(0)\n",
    "            correct += (predicted == labels).sum().item()\n",
    "\n",
    "    # Print the loss and accuracy every 10 epochs\n",
    "    print(f'Epoch {epoch+1:03}:')     \n",
    "    print(f'\\t- Training accuracy   : {accuracy:.4f}')\n",
    "    print(f'\\t- Training loss       : {loss.item():.4f}')\n",
    "    print(f'\\t- Validation accuracy : {correct / total:.4f}')\n",
    "    print(f'\\t- Validation loss : {lossVal.item():.4f}')\n",
    "    print(\"=========================================\")"
   ]
  }
 ],
 "metadata": {
  "kernelspec": {
   "display_name": "base",
   "language": "python",
   "name": "python3"
  },
  "language_info": {
   "codemirror_mode": {
    "name": "ipython",
    "version": 3
   },
   "file_extension": ".py",
   "mimetype": "text/x-python",
   "name": "python",
   "nbconvert_exporter": "python",
   "pygments_lexer": "ipython3",
   "version": "3.9.13"
  },
  "orig_nbformat": 4,
  "vscode": {
   "interpreter": {
    "hash": "e4bb13fd36cd75b5c6ebf5eeb3311ccbdd31a53d4d7c1927fb46ca30d24ab112"
   }
  }
 },
 "nbformat": 4,
 "nbformat_minor": 2
}
