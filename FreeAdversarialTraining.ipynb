{
 "cells": [
  {
   "attachments": {},
   "cell_type": "markdown",
   "metadata": {},
   "source": [
    "# __Neural Networks__\n",
    "## Exam Project: Adversarial Training for Free!\n",
    "\n",
    "**Students**:\n",
    "- **Name**: *Gianmarco Scarano* | Matricola Code: *2047315*<br>\n",
    "- **Name**: *Giancarlo Tedesco* | Matricola Code: *2057231*"
   ]
  },
  {
   "attachments": {},
   "cell_type": "markdown",
   "metadata": {},
   "source": [
    "### Google Colab compatibility\n",
    "Run this next cell only if you're using Google Colab!"
   ]
  },
  {
   "cell_type": "code",
   "execution_count": null,
   "metadata": {},
   "outputs": [],
   "source": [
    "# Library needed for this notebook\n",
    "!pip install -U tqdm --quiet"
   ]
  },
  {
   "attachments": {},
   "cell_type": "markdown",
   "metadata": {},
   "source": [
    "# Imports"
   ]
  },
  {
   "cell_type": "code",
   "execution_count": 1,
   "metadata": {},
   "outputs": [],
   "source": [
    "# We set the global variable for Google Colab, so we can assign possible paths, etc. accordingly\n",
    "try:\n",
    "  import google.colab\n",
    "  RunningInCOLAB = True\n",
    "except:\n",
    "  RunningInCOLAB = False"
   ]
  },
  {
   "cell_type": "code",
   "execution_count": 1,
   "metadata": {},
   "outputs": [
    {
     "name": "stdout",
     "output_type": "stream",
     "text": [
      "Dependecies loaded\n",
      "===================================================\n"
     ]
    }
   ],
   "source": [
    "from collections import OrderedDict\n",
    "\n",
    "import torch\n",
    "import torch.nn as nn\n",
    "import torch.optim as optim\n",
    "import torchvision.datasets as datasets\n",
    "import torchvision.models as models\n",
    "import torchvision.transforms as transforms\n",
    "from torch.utils.data import DataLoader\n",
    "from tqdm import tqdm\n",
    "import numpy as np\n",
    "\n",
    "print('Dependecies loaded')\n",
    "print(\"===================================================\")"
   ]
  },
  {
   "attachments": {},
   "cell_type": "markdown",
   "metadata": {},
   "source": [
    "## Check if we have CUDA support"
   ]
  },
  {
   "cell_type": "code",
   "execution_count": 2,
   "metadata": {},
   "outputs": [
    {
     "name": "stdout",
     "output_type": "stream",
     "text": [
      "Cuda available: True\n",
      "GPU: NVIDIA GeForce RTX 3060 Laptop GPU\n",
      "Total memory: 6.0 GB\n",
      "===================================================\n"
     ]
    }
   ],
   "source": [
    "if(torch.cuda.is_available()):\n",
    "    device = torch.device(\"cuda\")\n",
    "    print('Cuda available: {}'.format(torch.cuda.is_available()))\n",
    "    print(\"GPU: \" + torch.cuda.get_device_name(torch.cuda.current_device()))\n",
    "    print(\"Total memory: {:.1f} GB\".format((float(torch.cuda.get_device_properties(0).total_memory / (1024 ** 3)))))\n",
    "    print(\"===================================================\")\n",
    "else:\n",
    "    device = torch.device(\"cpu\")\n",
    "    print('Cuda not available, so using CPU. Please consider switching to a GPU runtime before running the notebook!')"
   ]
  },
  {
   "attachments": {},
   "cell_type": "markdown",
   "metadata": {},
   "source": [
    "# Fashion MNIST Dataset"
   ]
  },
  {
   "cell_type": "code",
   "execution_count": 3,
   "metadata": {},
   "outputs": [],
   "source": [
    "# Data augmentation\n",
    "transform = transforms.Compose([\n",
    "    transforms.ToTensor(),\n",
    "    transforms.Normalize((0.5,), (0.5,))\n",
    "])"
   ]
  },
  {
   "cell_type": "code",
   "execution_count": 4,
   "metadata": {},
   "outputs": [],
   "source": [
    "# Download the train dataset\n",
    "train_dataset = datasets.FashionMNIST(root ='./', train=True, download=True, transform=transform)\n",
    "\n",
    "# Download the test dataset\n",
    "test_dataset = datasets.FashionMNIST(root ='./', train=False, download=True, transform=transform)\n",
    "\n",
    "# Create train and test data loaders\n",
    "train_loader = DataLoader(train_dataset, batch_size=32, shuffle=True)\n",
    "test_loader = DataLoader(test_dataset, batch_size=32, shuffle=False)"
   ]
  },
  {
   "attachments": {},
   "cell_type": "markdown",
   "metadata": {},
   "source": [
    "# Model definition: DummyNet"
   ]
  },
  {
   "cell_type": "code",
   "execution_count": 5,
   "metadata": {},
   "outputs": [],
   "source": [
    "class DummyNet(nn.Module):\n",
    "    def __init__(self, num_classes=10):\n",
    "        super(DummyNet, self).__init__()\n",
    "\n",
    "        # First convolution\n",
    "        self.conv1 = nn.Conv2d(1, 32, kernel_size=3, stride=1, padding=1, device=device)\n",
    "        self.bn1 = nn.BatchNorm2d(32, device=device)\n",
    "        self.pool1 = nn.MaxPool2d(kernel_size=2, stride=2)\n",
    "\n",
    "        # Second convolution\n",
    "        self.conv2 = nn.Conv2d(32, 64, kernel_size=3, stride=1, padding=1, device=device)\n",
    "        self.bn2 = nn.BatchNorm2d(64, device=device)\n",
    "        self.pool2 = nn.MaxPool2d(kernel_size=2, stride=2)\n",
    "        \n",
    "        # Third convolution\n",
    "        self.conv3 = nn.Conv2d(64, 32, kernel_size=3, stride=1, padding=1, device=device)\n",
    "        self.bn3 = nn.BatchNorm2d(32, device=device)\n",
    "        self.pool3 = nn.MaxPool2d(kernel_size=2, stride=2)\n",
    "\n",
    "        # Activation functions\n",
    "        self.relu = nn.ReLU()\n",
    "        self.softmax = nn.Softmax(dim=1)\n",
    "\n",
    "        # Flatten layer\n",
    "        self.flatten = nn.Flatten()\n",
    "\n",
    "        # Fully connected layers\n",
    "        self.fc1 = nn.Linear(288, 150, device=device) # 288 is the output shape of the Flatten() function applied after the 3rd convolutional block.\n",
    "        self.fc2 = nn.Linear(150, 50, device=device)\n",
    "        self.fc3 = nn.Linear(50, num_classes, device=device)\n",
    "\n",
    "    def forward(self, x):\n",
    "        x = self.pool1(self.relu(self.bn1(self.conv1(x)))) # First convolution\n",
    "        x = self.pool2(self.relu(self.bn2(self.conv2(x)))) # Second convolution\n",
    "        x = self.pool3(self.relu(self.bn3(self.conv3(x)))) # Third convolution\n",
    "\n",
    "        x = self.flatten(x) # Flatten of the output of the 3rd convolutional block\n",
    "\n",
    "        x = self.relu(self.fc1(x))  # FC1\n",
    "        x = self.relu(self.fc2(x))  # FC2\n",
    "\n",
    "        x = self.fc3(x)             # Output layer\n",
    "        return self.softmax(x)      # Final activation function (SoftMax)"
   ]
  },
  {
   "attachments": {},
   "cell_type": "markdown",
   "metadata": {},
   "source": [
    "# Training phase"
   ]
  },
  {
   "attachments": {},
   "cell_type": "markdown",
   "metadata": {},
   "source": [
    "## Training parameters"
   ]
  },
  {
   "cell_type": "code",
   "execution_count": 55,
   "metadata": {},
   "outputs": [],
   "source": [
    "# Let's define some variables for the training phase\n",
    "lr = 1e-3\n",
    "momentum = 0.9\n",
    "epochs = 100\n",
    "\n",
    "# Our model\n",
    "model = DummyNet(num_classes=10)\n",
    "\n",
    "# Define the loss function and optimizer\n",
    "criterion = nn.CrossEntropyLoss()\n",
    "#optimizer = optim.Adam(model.parameters(), lr=lr)\n",
    "optimizer = optim.SGD(model.parameters(), lr=lr, momentum=momentum)"
   ]
  },
  {
   "attachments": {},
   "cell_type": "markdown",
   "metadata": {},
   "source": [
    "## FreeAdversarial parameters"
   ]
  },
  {
   "cell_type": "code",
   "execution_count": 56,
   "metadata": {},
   "outputs": [],
   "source": [
    "m = 2 # Usually it's a value m ≤ 10\n",
    "epochs = int(epochs / m)\n",
    "epsilon = 0.5\n",
    "delta = torch.zeros([32, 1, 28, 28], device=device)"
   ]
  },
  {
   "attachments": {},
   "cell_type": "markdown",
   "metadata": {},
   "source": [
    "## Actual training phase (Normal + FreeAdv)\n",
    "\n",
    "TODO:\n",
    "- Scalability for input sizes (W, H, D)\n",
    "- In the training loop, the accuracy is calculated for each iteration.\n",
    "  This is not correct, as the accuracy should be calculated for each epoch, after all training images are processed.\n",
    "- The validation accuracy is not being printed after each epoch.\n",
    "- The division of the images by std is not correct, before the forward pass, it should be images = (images - mean) / std"
   ]
  },
  {
   "cell_type": "code",
   "execution_count": 57,
   "metadata": {},
   "outputs": [
    {
     "name": "stderr",
     "output_type": "stream",
     "text": [
      "Epoch n.1 (Train): 100%|██████████| 1875/1875 [00:37<00:00, 49.66it/s]\n",
      "Epoch n.1 (Validation): 100%|██████████| 313/313 [00:03<00:00, 101.46it/s]\n"
     ]
    },
    {
     "name": "stdout",
     "output_type": "stream",
     "text": [
      "Epoch 001:\n",
      "\t- Training accuracy   : 0.5312\n",
      "\t- Training loss       : 1.8885\n",
      "\t- Validation accuracy : 0.3742\n",
      "\t- Validation loss : 2.0210\n",
      "=========================================\n"
     ]
    },
    {
     "name": "stderr",
     "output_type": "stream",
     "text": [
      "Epoch n.2 (Train): 100%|██████████| 1875/1875 [00:37<00:00, 49.74it/s]\n",
      "Epoch n.2 (Validation): 100%|██████████| 313/313 [00:03<00:00, 100.54it/s]\n"
     ]
    },
    {
     "name": "stdout",
     "output_type": "stream",
     "text": [
      "Epoch 002:\n",
      "\t- Training accuracy   : 0.4375\n",
      "\t- Training loss       : 1.9825\n",
      "\t- Validation accuracy : 0.4219\n",
      "\t- Validation loss : 1.9430\n",
      "=========================================\n"
     ]
    },
    {
     "name": "stderr",
     "output_type": "stream",
     "text": [
      "Epoch n.3 (Train): 100%|██████████| 1875/1875 [00:37<00:00, 50.07it/s]\n",
      "Epoch n.3 (Validation): 100%|██████████| 313/313 [00:03<00:00, 100.93it/s]\n"
     ]
    },
    {
     "name": "stdout",
     "output_type": "stream",
     "text": [
      "Epoch 003:\n",
      "\t- Training accuracy   : 0.3750\n",
      "\t- Training loss       : 2.0397\n",
      "\t- Validation accuracy : 0.3221\n",
      "\t- Validation loss : 1.9463\n",
      "=========================================\n"
     ]
    },
    {
     "name": "stderr",
     "output_type": "stream",
     "text": [
      "Epoch n.4 (Train):  92%|█████████▏| 1728/1875 [00:34<00:02, 50.03it/s]\n"
     ]
    },
    {
     "ename": "KeyboardInterrupt",
     "evalue": "",
     "output_type": "error",
     "traceback": [
      "\u001b[1;31m---------------------------------------------------------------------------\u001b[0m",
      "\u001b[1;31mKeyboardInterrupt\u001b[0m                         Traceback (most recent call last)",
      "Cell \u001b[1;32mIn[57], line 35\u001b[0m\n\u001b[0;32m     33\u001b[0m \u001b[39m# Backward pass and optimization\u001b[39;00m\n\u001b[0;32m     34\u001b[0m optimizer\u001b[39m.\u001b[39mzero_grad()\n\u001b[1;32m---> 35\u001b[0m loss\u001b[39m.\u001b[39;49mbackward(retain_graph\u001b[39m=\u001b[39;49m\u001b[39mTrue\u001b[39;49;00m) \u001b[39m# 7: gθ ← E(x,y)∈B[∇θ l(x + δ, y, θ)] + 9: θ ← θ − τgθ ----> Plus we go popolate the noise_batch.grad value\u001b[39;00m\n\u001b[0;32m     37\u001b[0m gadv \u001b[39m=\u001b[39m noise_batch\u001b[39m.\u001b[39mgrad \u001b[39m# 8: gadv ← ∇x l(x + δ, y, θ)] ---> We already computed this, we are just storing it in a variable\u001b[39;00m\n\u001b[0;32m     39\u001b[0m \u001b[39m# Update the noise for the next iteration\u001b[39;00m\n",
      "File \u001b[1;32mc:\\Users\\Gianmarco\\anaconda3\\envs\\torch\\lib\\site-packages\\torch\\_tensor.py:488\u001b[0m, in \u001b[0;36mTensor.backward\u001b[1;34m(self, gradient, retain_graph, create_graph, inputs)\u001b[0m\n\u001b[0;32m    478\u001b[0m \u001b[39mif\u001b[39;00m has_torch_function_unary(\u001b[39mself\u001b[39m):\n\u001b[0;32m    479\u001b[0m     \u001b[39mreturn\u001b[39;00m handle_torch_function(\n\u001b[0;32m    480\u001b[0m         Tensor\u001b[39m.\u001b[39mbackward,\n\u001b[0;32m    481\u001b[0m         (\u001b[39mself\u001b[39m,),\n\u001b[1;32m   (...)\u001b[0m\n\u001b[0;32m    486\u001b[0m         inputs\u001b[39m=\u001b[39minputs,\n\u001b[0;32m    487\u001b[0m     )\n\u001b[1;32m--> 488\u001b[0m torch\u001b[39m.\u001b[39;49mautograd\u001b[39m.\u001b[39;49mbackward(\n\u001b[0;32m    489\u001b[0m     \u001b[39mself\u001b[39;49m, gradient, retain_graph, create_graph, inputs\u001b[39m=\u001b[39;49minputs\n\u001b[0;32m    490\u001b[0m )\n",
      "File \u001b[1;32mc:\\Users\\Gianmarco\\anaconda3\\envs\\torch\\lib\\site-packages\\torch\\autograd\\__init__.py:197\u001b[0m, in \u001b[0;36mbackward\u001b[1;34m(tensors, grad_tensors, retain_graph, create_graph, grad_variables, inputs)\u001b[0m\n\u001b[0;32m    192\u001b[0m     retain_graph \u001b[39m=\u001b[39m create_graph\n\u001b[0;32m    194\u001b[0m \u001b[39m# The reason we repeat same the comment below is that\u001b[39;00m\n\u001b[0;32m    195\u001b[0m \u001b[39m# some Python versions print out the first line of a multi-line function\u001b[39;00m\n\u001b[0;32m    196\u001b[0m \u001b[39m# calls in the traceback and some print out the last line\u001b[39;00m\n\u001b[1;32m--> 197\u001b[0m Variable\u001b[39m.\u001b[39;49m_execution_engine\u001b[39m.\u001b[39;49mrun_backward(  \u001b[39m# Calls into the C++ engine to run the backward pass\u001b[39;49;00m\n\u001b[0;32m    198\u001b[0m     tensors, grad_tensors_, retain_graph, create_graph, inputs,\n\u001b[0;32m    199\u001b[0m     allow_unreachable\u001b[39m=\u001b[39;49m\u001b[39mTrue\u001b[39;49;00m, accumulate_grad\u001b[39m=\u001b[39;49m\u001b[39mTrue\u001b[39;49;00m)\n",
      "\u001b[1;31mKeyboardInterrupt\u001b[0m: "
     ]
    }
   ],
   "source": [
    "correct = 0\n",
    "total = 0\n",
    "noise_batch = None\n",
    "\n",
    "# Train the model\n",
    "for epoch in range(epochs): # 3: for epoch = 1 . . . Nep/m do\n",
    "\n",
    "    mean = torch.Tensor(np.array([0.1307])[:, np.newaxis, np.newaxis])\n",
    "    mean = mean.expand(1, 28, 28).cuda()\n",
    "    std = torch.Tensor(np.array([0.3081])[:, np.newaxis, np.newaxis])\n",
    "    std = std.expand(1, 28, 28).cuda()\n",
    "\n",
    "    model.train()\n",
    "    \n",
    "    for i, (images, labels) in enumerate(tqdm(train_loader, desc=F\"Epoch n.{epoch+1} (Train)\")): # 4: for minibatch B ⊂ X do\n",
    "\n",
    "        # We need to move to the GPU otherwise PyTorch will give issues when adding noise_batch to images\n",
    "        images = images.to(device=device)\n",
    "        labels = labels.to(device=device)\n",
    "\n",
    "        for j in range(m): # 5: for i = 1 . . . m do\n",
    "\n",
    "            # We want our model to not be trained on simple images but on images with noise δ (delta)\n",
    "            noise_batch = delta[0:images.size(0)].to(device=device).requires_grad_(True)\n",
    "            images += noise_batch\n",
    "            images.clamp_(0, 1.0)\n",
    "            images.sub_(mean).div_(std)\n",
    "\n",
    "            # Forward pass\n",
    "            outputs = model(images)\n",
    "            loss = criterion(outputs, labels)\n",
    "\n",
    "            # Backward pass and optimization\n",
    "            optimizer.zero_grad()\n",
    "            loss.backward(retain_graph=True) # 7: gθ ← E(x,y)∈B[∇θ l(x + δ, y, θ)] + 9: θ ← θ − τgθ ----> Plus we go popolate the noise_batch.grad value\n",
    "\n",
    "            gadv = noise_batch.grad # 8: gadv ← ∇x l(x + δ, y, θ)] ---> We already computed this, we are just storing it in a variable\n",
    "\n",
    "            # Update the noise for the next iteration\n",
    "            delta[0:images.size(0)] = delta[0:images.size(0)] + (epsilon * torch.sign(gadv)) # 11: δ ← δ + eps · sign(gadv)\n",
    "            \n",
    "            delta[0:images.size(0)] = torch.clamp_(delta[0:images.size(0)], - epsilon, epsilon) # 12: δ ← clip(δ, -eps, eps)\n",
    "\n",
    "            optimizer.step()\n",
    "            \n",
    "            # For testing\n",
    "            if epoch == 0 and j == 0:\n",
    "                imagesNorm = images\n",
    "                imagesPert = images + (epsilon * torch.sign(gadv))\n",
    "                \n",
    "            # Calculate accuracy\n",
    "            _, predicted = torch.max(outputs.data, 1)\n",
    "            correct = (predicted == labels).sum().item()\n",
    "            accuracy = correct / len(labels)\n",
    "\n",
    "    # Test the model\n",
    "    model.eval()\n",
    "\n",
    "    with torch.no_grad():\n",
    "        correct = 0\n",
    "        total = 0\n",
    "\n",
    "        mean = torch.Tensor(np.array([0.1307])[:, np.newaxis, np.newaxis])\n",
    "        mean = mean.expand(1, 28, 28).cuda()\n",
    "        std = torch.Tensor(np.array([0.3081])[:, np.newaxis, np.newaxis])\n",
    "        std = std.expand(1, 28, 28).cuda()\n",
    "\n",
    "        for images, labels in tqdm(test_loader, desc=F\"Epoch n.{epoch+1} (Validation)\"):\n",
    "            \n",
    "            images = images.to(device=device)\n",
    "            labels = labels.to(device=device)\n",
    "            \n",
    "            # compute output\n",
    "            images.sub_(mean).div_(std)\n",
    "\n",
    "            outputs = model(images)\n",
    "\n",
    "            lossVal = criterion(outputs, labels)\n",
    "\n",
    "            _, predicted = torch.max(outputs.data, 1)\n",
    "            total += labels.size(0)\n",
    "            correct += (predicted == labels).sum().item()\n",
    "\n",
    "    # Print the loss and accuracy every 10 epochs\n",
    "    print(f'Epoch {epoch+1:03}:')     \n",
    "    print(f'\\t- Training accuracy   : {accuracy:.4f}')\n",
    "    print(f'\\t- Training loss       : {loss.item():.4f}')\n",
    "    print(f'\\t- Validation accuracy : {correct / total:.4f}')\n",
    "    print(f'\\t- Validation loss : {lossVal.item():.4f}')\n",
    "    print(\"=========================================\")"
   ]
  },
  {
   "cell_type": "code",
   "execution_count": 65,
   "metadata": {},
   "outputs": [
    {
     "data": {
      "text/plain": [
       "<matplotlib.image.AxesImage at 0x12138b155a0>"
      ]
     },
     "execution_count": 65,
     "metadata": {},
     "output_type": "execute_result"
    },
    {
     "data": {
      "image/png": "[encoded data removed]",
      "text/plain": [
       "<Figure size 640x480 with 1 Axes>"
      ]
     },
     "metadata": {},
     "output_type": "display_data"
    }
   ],
   "source": [
    "import matplotlib.pyplot as plt\n",
    "\n",
    "images1 = images + (epsilon * torch.sign(gadv))\n",
    "\n",
    "pp = np.array(images1[21].detach().cpu(), dtype='float')\n",
    "\n",
    "plt.imshow(pp.reshape(28,28,1), cmap='gray')"
   ]
  }
 ],
 "metadata": {
  "kernelspec": {
   "display_name": "torch",
   "language": "python",
   "name": "python3"
  },
  "language_info": {
   "codemirror_mode": {
    "name": "ipython",
    "version": 3
   },
   "file_extension": ".py",
   "mimetype": "text/x-python",
   "name": "python",
   "nbconvert_exporter": "python",
   "pygments_lexer": "ipython3",
   "version": "3.10.8"
  },
  "orig_nbformat": 4,
  "vscode": {
   "interpreter": {
    "hash": "7b9082d386f54bb1e876ee3493f63c8c72bc999c530e6e747cfb25eee0b2b7eb"
   }
  }
 },
 "nbformat": 4,
 "nbformat_minor": 2
}
